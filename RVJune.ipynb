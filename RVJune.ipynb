{
 "cells": [
  {
   "cell_type": "code",
   "execution_count": 1,
   "id": "f7c5b5e8-677f-4207-9297-c365de114cfa",
   "metadata": {
    "tags": []
   },
   "outputs": [],
   "source": [
    "# basic libraries to work on the dataframe\n",
    "import pandas as pd\n",
    "import numpy as np\n",
    "# data Visualization libraries\n",
    "import matplotlib.pyplot as plt\n",
    "import seaborn as sns\n",
    "\n",
    "# libraries\n",
    "from sklearn.cluster import KMeans\n",
    "from sklearn.model_selection import train_test_split\n",
    "from sklearn.preprocessing import StandardScaler\n",
    "import statsmodels.api as sm\n",
    "from sklearn.linear_model import LogisticRegression\n",
    "from sklearn.feature_selection import RFE\n",
    "from statsmodels.stats.outliers_influence import variance_inflation_factor\n",
    "\n",
    "# Suppressing Warnings\n",
    "import warnings\n",
    "warnings.filterwarnings('ignore')\n",
    "\n",
    "#Increasing the columns views limit\n",
    "pd.options.display.max_columns = None\n",
    "pd.options.display.max_rows = 150\n",
    "pd.options.display.float_format = '{:.2f}'.format"
   ]
  },
  {
   "cell_type": "code",
   "execution_count": 9,
   "id": "87e9ca8b-1584-4384-907b-ca8710dcdc7f",
   "metadata": {
    "tags": []
   },
   "outputs": [
    {
     "data": {
      "text/html": [
       "<div>\n",
       "<style scoped>\n",
       "    .dataframe tbody tr th:only-of-type {\n",
       "        vertical-align: middle;\n",
       "    }\n",
       "\n",
       "    .dataframe tbody tr th {\n",
       "        vertical-align: top;\n",
       "    }\n",
       "\n",
       "    .dataframe thead th {\n",
       "        text-align: right;\n",
       "    }\n",
       "</style>\n",
       "<table border=\"1\" class=\"dataframe\">\n",
       "  <thead>\n",
       "    <tr style=\"text-align: right;\">\n",
       "      <th></th>\n",
       "      <th>Prospect ID</th>\n",
       "      <th>Lead Number</th>\n",
       "      <th>Lead Origin</th>\n",
       "      <th>Lead Source</th>\n",
       "      <th>Do Not Email</th>\n",
       "      <th>Do Not Call</th>\n",
       "      <th>Converted</th>\n",
       "      <th>TotalVisits</th>\n",
       "      <th>Total Time Spent on Website</th>\n",
       "      <th>Page Views Per Visit</th>\n",
       "      <th>Last Activity</th>\n",
       "      <th>Country</th>\n",
       "      <th>Specialization</th>\n",
       "      <th>How did you hear about X Education</th>\n",
       "      <th>What is your current occupation</th>\n",
       "      <th>What matters most to you in choosing a course</th>\n",
       "      <th>Search</th>\n",
       "      <th>Magazine</th>\n",
       "      <th>Newspaper Article</th>\n",
       "      <th>X Education Forums</th>\n",
       "      <th>Newspaper</th>\n",
       "      <th>Digital Advertisement</th>\n",
       "      <th>Through Recommendations</th>\n",
       "      <th>Receive More Updates About Our Courses</th>\n",
       "      <th>Tags</th>\n",
       "      <th>Lead Quality</th>\n",
       "      <th>Update me on Supply Chain Content</th>\n",
       "      <th>Get updates on DM Content</th>\n",
       "      <th>Lead Profile</th>\n",
       "      <th>City</th>\n",
       "      <th>Asymmetrique Activity Index</th>\n",
       "      <th>Asymmetrique Profile Index</th>\n",
       "      <th>Asymmetrique Activity Score</th>\n",
       "      <th>Asymmetrique Profile Score</th>\n",
       "      <th>I agree to pay the amount through cheque</th>\n",
       "      <th>A free copy of Mastering The Interview</th>\n",
       "      <th>Last Notable Activity</th>\n",
       "    </tr>\n",
       "  </thead>\n",
       "  <tbody>\n",
       "    <tr>\n",
       "      <th>0</th>\n",
       "      <td>7927b2df-8bba-4d29-b9a2-b6e0beafe620</td>\n",
       "      <td>660737</td>\n",
       "      <td>API</td>\n",
       "      <td>Olark Chat</td>\n",
       "      <td>No</td>\n",
       "      <td>No</td>\n",
       "      <td>0</td>\n",
       "      <td>0.00</td>\n",
       "      <td>0</td>\n",
       "      <td>0.00</td>\n",
       "      <td>Page Visited on Website</td>\n",
       "      <td>NaN</td>\n",
       "      <td>Select</td>\n",
       "      <td>Select</td>\n",
       "      <td>Unemployed</td>\n",
       "      <td>Better Career Prospects</td>\n",
       "      <td>No</td>\n",
       "      <td>No</td>\n",
       "      <td>No</td>\n",
       "      <td>No</td>\n",
       "      <td>No</td>\n",
       "      <td>No</td>\n",
       "      <td>No</td>\n",
       "      <td>No</td>\n",
       "      <td>Interested in other courses</td>\n",
       "      <td>Low in Relevance</td>\n",
       "      <td>No</td>\n",
       "      <td>No</td>\n",
       "      <td>Select</td>\n",
       "      <td>Select</td>\n",
       "      <td>02.Medium</td>\n",
       "      <td>02.Medium</td>\n",
       "      <td>15.00</td>\n",
       "      <td>15.00</td>\n",
       "      <td>No</td>\n",
       "      <td>No</td>\n",
       "      <td>Modified</td>\n",
       "    </tr>\n",
       "    <tr>\n",
       "      <th>1</th>\n",
       "      <td>2a272436-5132-4136-86fa-dcc88c88f482</td>\n",
       "      <td>660728</td>\n",
       "      <td>API</td>\n",
       "      <td>Organic Search</td>\n",
       "      <td>No</td>\n",
       "      <td>No</td>\n",
       "      <td>0</td>\n",
       "      <td>5.00</td>\n",
       "      <td>674</td>\n",
       "      <td>2.50</td>\n",
       "      <td>Email Opened</td>\n",
       "      <td>India</td>\n",
       "      <td>Select</td>\n",
       "      <td>Select</td>\n",
       "      <td>Unemployed</td>\n",
       "      <td>Better Career Prospects</td>\n",
       "      <td>No</td>\n",
       "      <td>No</td>\n",
       "      <td>No</td>\n",
       "      <td>No</td>\n",
       "      <td>No</td>\n",
       "      <td>No</td>\n",
       "      <td>No</td>\n",
       "      <td>No</td>\n",
       "      <td>Ringing</td>\n",
       "      <td>NaN</td>\n",
       "      <td>No</td>\n",
       "      <td>No</td>\n",
       "      <td>Select</td>\n",
       "      <td>Select</td>\n",
       "      <td>02.Medium</td>\n",
       "      <td>02.Medium</td>\n",
       "      <td>15.00</td>\n",
       "      <td>15.00</td>\n",
       "      <td>No</td>\n",
       "      <td>No</td>\n",
       "      <td>Email Opened</td>\n",
       "    </tr>\n",
       "    <tr>\n",
       "      <th>2</th>\n",
       "      <td>8cc8c611-a219-4f35-ad23-fdfd2656bd8a</td>\n",
       "      <td>660727</td>\n",
       "      <td>Landing Page Submission</td>\n",
       "      <td>Direct Traffic</td>\n",
       "      <td>No</td>\n",
       "      <td>No</td>\n",
       "      <td>1</td>\n",
       "      <td>2.00</td>\n",
       "      <td>1532</td>\n",
       "      <td>2.00</td>\n",
       "      <td>Email Opened</td>\n",
       "      <td>India</td>\n",
       "      <td>Business Administration</td>\n",
       "      <td>Select</td>\n",
       "      <td>Student</td>\n",
       "      <td>Better Career Prospects</td>\n",
       "      <td>No</td>\n",
       "      <td>No</td>\n",
       "      <td>No</td>\n",
       "      <td>No</td>\n",
       "      <td>No</td>\n",
       "      <td>No</td>\n",
       "      <td>No</td>\n",
       "      <td>No</td>\n",
       "      <td>Will revert after reading the email</td>\n",
       "      <td>Might be</td>\n",
       "      <td>No</td>\n",
       "      <td>No</td>\n",
       "      <td>Potential Lead</td>\n",
       "      <td>Mumbai</td>\n",
       "      <td>02.Medium</td>\n",
       "      <td>01.High</td>\n",
       "      <td>14.00</td>\n",
       "      <td>20.00</td>\n",
       "      <td>No</td>\n",
       "      <td>Yes</td>\n",
       "      <td>Email Opened</td>\n",
       "    </tr>\n",
       "    <tr>\n",
       "      <th>3</th>\n",
       "      <td>0cc2df48-7cf4-4e39-9de9-19797f9b38cc</td>\n",
       "      <td>660719</td>\n",
       "      <td>Landing Page Submission</td>\n",
       "      <td>Direct Traffic</td>\n",
       "      <td>No</td>\n",
       "      <td>No</td>\n",
       "      <td>0</td>\n",
       "      <td>1.00</td>\n",
       "      <td>305</td>\n",
       "      <td>1.00</td>\n",
       "      <td>Unreachable</td>\n",
       "      <td>India</td>\n",
       "      <td>Media and Advertising</td>\n",
       "      <td>Word Of Mouth</td>\n",
       "      <td>Unemployed</td>\n",
       "      <td>Better Career Prospects</td>\n",
       "      <td>No</td>\n",
       "      <td>No</td>\n",
       "      <td>No</td>\n",
       "      <td>No</td>\n",
       "      <td>No</td>\n",
       "      <td>No</td>\n",
       "      <td>No</td>\n",
       "      <td>No</td>\n",
       "      <td>Ringing</td>\n",
       "      <td>Not Sure</td>\n",
       "      <td>No</td>\n",
       "      <td>No</td>\n",
       "      <td>Select</td>\n",
       "      <td>Mumbai</td>\n",
       "      <td>02.Medium</td>\n",
       "      <td>01.High</td>\n",
       "      <td>13.00</td>\n",
       "      <td>17.00</td>\n",
       "      <td>No</td>\n",
       "      <td>No</td>\n",
       "      <td>Modified</td>\n",
       "    </tr>\n",
       "    <tr>\n",
       "      <th>4</th>\n",
       "      <td>3256f628-e534-4826-9d63-4a8b88782852</td>\n",
       "      <td>660681</td>\n",
       "      <td>Landing Page Submission</td>\n",
       "      <td>Google</td>\n",
       "      <td>No</td>\n",
       "      <td>No</td>\n",
       "      <td>1</td>\n",
       "      <td>2.00</td>\n",
       "      <td>1428</td>\n",
       "      <td>1.00</td>\n",
       "      <td>Converted to Lead</td>\n",
       "      <td>India</td>\n",
       "      <td>Select</td>\n",
       "      <td>Other</td>\n",
       "      <td>Unemployed</td>\n",
       "      <td>Better Career Prospects</td>\n",
       "      <td>No</td>\n",
       "      <td>No</td>\n",
       "      <td>No</td>\n",
       "      <td>No</td>\n",
       "      <td>No</td>\n",
       "      <td>No</td>\n",
       "      <td>No</td>\n",
       "      <td>No</td>\n",
       "      <td>Will revert after reading the email</td>\n",
       "      <td>Might be</td>\n",
       "      <td>No</td>\n",
       "      <td>No</td>\n",
       "      <td>Select</td>\n",
       "      <td>Mumbai</td>\n",
       "      <td>02.Medium</td>\n",
       "      <td>01.High</td>\n",
       "      <td>15.00</td>\n",
       "      <td>18.00</td>\n",
       "      <td>No</td>\n",
       "      <td>No</td>\n",
       "      <td>Modified</td>\n",
       "    </tr>\n",
       "  </tbody>\n",
       "</table>\n",
       "</div>"
      ],
      "text/plain": [
       "                            Prospect ID  Lead Number              Lead Origin  \\\n",
       "0  7927b2df-8bba-4d29-b9a2-b6e0beafe620       660737                      API   \n",
       "1  2a272436-5132-4136-86fa-dcc88c88f482       660728                      API   \n",
       "2  8cc8c611-a219-4f35-ad23-fdfd2656bd8a       660727  Landing Page Submission   \n",
       "3  0cc2df48-7cf4-4e39-9de9-19797f9b38cc       660719  Landing Page Submission   \n",
       "4  3256f628-e534-4826-9d63-4a8b88782852       660681  Landing Page Submission   \n",
       "\n",
       "      Lead Source Do Not Email Do Not Call  Converted  TotalVisits  \\\n",
       "0      Olark Chat           No          No          0         0.00   \n",
       "1  Organic Search           No          No          0         5.00   \n",
       "2  Direct Traffic           No          No          1         2.00   \n",
       "3  Direct Traffic           No          No          0         1.00   \n",
       "4          Google           No          No          1         2.00   \n",
       "\n",
       "   Total Time Spent on Website  Page Views Per Visit            Last Activity  \\\n",
       "0                            0                  0.00  Page Visited on Website   \n",
       "1                          674                  2.50             Email Opened   \n",
       "2                         1532                  2.00             Email Opened   \n",
       "3                          305                  1.00              Unreachable   \n",
       "4                         1428                  1.00        Converted to Lead   \n",
       "\n",
       "  Country           Specialization How did you hear about X Education  \\\n",
       "0     NaN                   Select                             Select   \n",
       "1   India                   Select                             Select   \n",
       "2   India  Business Administration                             Select   \n",
       "3   India    Media and Advertising                      Word Of Mouth   \n",
       "4   India                   Select                              Other   \n",
       "\n",
       "  What is your current occupation  \\\n",
       "0                      Unemployed   \n",
       "1                      Unemployed   \n",
       "2                         Student   \n",
       "3                      Unemployed   \n",
       "4                      Unemployed   \n",
       "\n",
       "  What matters most to you in choosing a course Search Magazine  \\\n",
       "0                       Better Career Prospects     No       No   \n",
       "1                       Better Career Prospects     No       No   \n",
       "2                       Better Career Prospects     No       No   \n",
       "3                       Better Career Prospects     No       No   \n",
       "4                       Better Career Prospects     No       No   \n",
       "\n",
       "  Newspaper Article X Education Forums Newspaper Digital Advertisement  \\\n",
       "0                No                 No        No                    No   \n",
       "1                No                 No        No                    No   \n",
       "2                No                 No        No                    No   \n",
       "3                No                 No        No                    No   \n",
       "4                No                 No        No                    No   \n",
       "\n",
       "  Through Recommendations Receive More Updates About Our Courses  \\\n",
       "0                      No                                     No   \n",
       "1                      No                                     No   \n",
       "2                      No                                     No   \n",
       "3                      No                                     No   \n",
       "4                      No                                     No   \n",
       "\n",
       "                                  Tags      Lead Quality  \\\n",
       "0          Interested in other courses  Low in Relevance   \n",
       "1                              Ringing               NaN   \n",
       "2  Will revert after reading the email          Might be   \n",
       "3                              Ringing          Not Sure   \n",
       "4  Will revert after reading the email          Might be   \n",
       "\n",
       "  Update me on Supply Chain Content Get updates on DM Content    Lead Profile  \\\n",
       "0                                No                        No          Select   \n",
       "1                                No                        No          Select   \n",
       "2                                No                        No  Potential Lead   \n",
       "3                                No                        No          Select   \n",
       "4                                No                        No          Select   \n",
       "\n",
       "     City Asymmetrique Activity Index Asymmetrique Profile Index  \\\n",
       "0  Select                   02.Medium                  02.Medium   \n",
       "1  Select                   02.Medium                  02.Medium   \n",
       "2  Mumbai                   02.Medium                    01.High   \n",
       "3  Mumbai                   02.Medium                    01.High   \n",
       "4  Mumbai                   02.Medium                    01.High   \n",
       "\n",
       "   Asymmetrique Activity Score  Asymmetrique Profile Score  \\\n",
       "0                        15.00                       15.00   \n",
       "1                        15.00                       15.00   \n",
       "2                        14.00                       20.00   \n",
       "3                        13.00                       17.00   \n",
       "4                        15.00                       18.00   \n",
       "\n",
       "  I agree to pay the amount through cheque  \\\n",
       "0                                       No   \n",
       "1                                       No   \n",
       "2                                       No   \n",
       "3                                       No   \n",
       "4                                       No   \n",
       "\n",
       "  A free copy of Mastering The Interview Last Notable Activity  \n",
       "0                                     No              Modified  \n",
       "1                                     No          Email Opened  \n",
       "2                                    Yes          Email Opened  \n",
       "3                                     No              Modified  \n",
       "4                                     No              Modified  "
      ]
     },
     "execution_count": 9,
     "metadata": {},
     "output_type": "execute_result"
    }
   ],
   "source": [
    "#Reading the data file using pandas\n",
    "df = pd.read_csv('C:/Users/Rahul V\\Desktop\\Git\\Leads.csv')\n",
    "df.head()\n"
   ]
  },
  {
   "cell_type": "code",
   "execution_count": 10,
   "id": "c5e43958-f9af-4348-9cda-5364db9f4a28",
   "metadata": {
    "tags": []
   },
   "outputs": [
    {
     "data": {
      "text/plain": [
       "(9240, 37)"
      ]
     },
     "execution_count": 10,
     "metadata": {},
     "output_type": "execute_result"
    }
   ],
   "source": [
    "# check the shape of the dataset\n",
    "df.shape"
   ]
  },
  {
   "cell_type": "code",
   "execution_count": 11,
   "id": "55dfddde-2c22-418b-b10c-3ea7eae71fea",
   "metadata": {
    "tags": []
   },
   "outputs": [
    {
     "data": {
      "text/html": [
       "<div>\n",
       "<style scoped>\n",
       "    .dataframe tbody tr th:only-of-type {\n",
       "        vertical-align: middle;\n",
       "    }\n",
       "\n",
       "    .dataframe tbody tr th {\n",
       "        vertical-align: top;\n",
       "    }\n",
       "\n",
       "    .dataframe thead th {\n",
       "        text-align: right;\n",
       "    }\n",
       "</style>\n",
       "<table border=\"1\" class=\"dataframe\">\n",
       "  <thead>\n",
       "    <tr style=\"text-align: right;\">\n",
       "      <th></th>\n",
       "      <th>Lead Number</th>\n",
       "      <th>Converted</th>\n",
       "      <th>TotalVisits</th>\n",
       "      <th>Total Time Spent on Website</th>\n",
       "      <th>Page Views Per Visit</th>\n",
       "      <th>Asymmetrique Activity Score</th>\n",
       "      <th>Asymmetrique Profile Score</th>\n",
       "    </tr>\n",
       "  </thead>\n",
       "  <tbody>\n",
       "    <tr>\n",
       "      <th>count</th>\n",
       "      <td>9240.00</td>\n",
       "      <td>9240.00</td>\n",
       "      <td>9103.00</td>\n",
       "      <td>9240.00</td>\n",
       "      <td>9103.00</td>\n",
       "      <td>5022.00</td>\n",
       "      <td>5022.00</td>\n",
       "    </tr>\n",
       "    <tr>\n",
       "      <th>mean</th>\n",
       "      <td>617188.44</td>\n",
       "      <td>0.39</td>\n",
       "      <td>3.45</td>\n",
       "      <td>487.70</td>\n",
       "      <td>2.36</td>\n",
       "      <td>14.31</td>\n",
       "      <td>16.34</td>\n",
       "    </tr>\n",
       "    <tr>\n",
       "      <th>std</th>\n",
       "      <td>23406.00</td>\n",
       "      <td>0.49</td>\n",
       "      <td>4.85</td>\n",
       "      <td>548.02</td>\n",
       "      <td>2.16</td>\n",
       "      <td>1.39</td>\n",
       "      <td>1.81</td>\n",
       "    </tr>\n",
       "    <tr>\n",
       "      <th>min</th>\n",
       "      <td>579533.00</td>\n",
       "      <td>0.00</td>\n",
       "      <td>0.00</td>\n",
       "      <td>0.00</td>\n",
       "      <td>0.00</td>\n",
       "      <td>7.00</td>\n",
       "      <td>11.00</td>\n",
       "    </tr>\n",
       "    <tr>\n",
       "      <th>25%</th>\n",
       "      <td>596484.50</td>\n",
       "      <td>0.00</td>\n",
       "      <td>1.00</td>\n",
       "      <td>12.00</td>\n",
       "      <td>1.00</td>\n",
       "      <td>14.00</td>\n",
       "      <td>15.00</td>\n",
       "    </tr>\n",
       "    <tr>\n",
       "      <th>50%</th>\n",
       "      <td>615479.00</td>\n",
       "      <td>0.00</td>\n",
       "      <td>3.00</td>\n",
       "      <td>248.00</td>\n",
       "      <td>2.00</td>\n",
       "      <td>14.00</td>\n",
       "      <td>16.00</td>\n",
       "    </tr>\n",
       "    <tr>\n",
       "      <th>75%</th>\n",
       "      <td>637387.25</td>\n",
       "      <td>1.00</td>\n",
       "      <td>5.00</td>\n",
       "      <td>936.00</td>\n",
       "      <td>3.00</td>\n",
       "      <td>15.00</td>\n",
       "      <td>18.00</td>\n",
       "    </tr>\n",
       "    <tr>\n",
       "      <th>max</th>\n",
       "      <td>660737.00</td>\n",
       "      <td>1.00</td>\n",
       "      <td>251.00</td>\n",
       "      <td>2272.00</td>\n",
       "      <td>55.00</td>\n",
       "      <td>18.00</td>\n",
       "      <td>20.00</td>\n",
       "    </tr>\n",
       "  </tbody>\n",
       "</table>\n",
       "</div>"
      ],
      "text/plain": [
       "       Lead Number  Converted  TotalVisits  Total Time Spent on Website  \\\n",
       "count      9240.00    9240.00      9103.00                      9240.00   \n",
       "mean     617188.44       0.39         3.45                       487.70   \n",
       "std       23406.00       0.49         4.85                       548.02   \n",
       "min      579533.00       0.00         0.00                         0.00   \n",
       "25%      596484.50       0.00         1.00                        12.00   \n",
       "50%      615479.00       0.00         3.00                       248.00   \n",
       "75%      637387.25       1.00         5.00                       936.00   \n",
       "max      660737.00       1.00       251.00                      2272.00   \n",
       "\n",
       "       Page Views Per Visit  Asymmetrique Activity Score  \\\n",
       "count               9103.00                      5022.00   \n",
       "mean                   2.36                        14.31   \n",
       "std                    2.16                         1.39   \n",
       "min                    0.00                         7.00   \n",
       "25%                    1.00                        14.00   \n",
       "50%                    2.00                        14.00   \n",
       "75%                    3.00                        15.00   \n",
       "max                   55.00                        18.00   \n",
       "\n",
       "       Asymmetrique Profile Score  \n",
       "count                     5022.00  \n",
       "mean                        16.34  \n",
       "std                          1.81  \n",
       "min                         11.00  \n",
       "25%                         15.00  \n",
       "50%                         16.00  \n",
       "75%                         18.00  \n",
       "max                         20.00  "
      ]
     },
     "execution_count": 11,
     "metadata": {},
     "output_type": "execute_result"
    }
   ],
   "source": [
    "# check statistics for numerical columns\n",
    "df.describe()"
   ]
  },
  {
   "cell_type": "code",
   "execution_count": 12,
   "id": "365bc369-3e3d-4977-a482-a3cc8eee7496",
   "metadata": {
    "tags": []
   },
   "outputs": [
    {
     "data": {
      "text/plain": [
       "0"
      ]
     },
     "execution_count": 12,
     "metadata": {},
     "output_type": "execute_result"
    }
   ],
   "source": [
    "# check whether there are any duplicates\n",
    "df.duplicated().sum()"
   ]
  },
  {
   "cell_type": "code",
   "execution_count": 13,
   "id": "ba1a85db-56c3-48d2-86af-3a123d2dc7b1",
   "metadata": {
    "tags": []
   },
   "outputs": [
    {
     "name": "stdout",
     "output_type": "stream",
     "text": [
      "<class 'pandas.core.frame.DataFrame'>\n",
      "RangeIndex: 9240 entries, 0 to 9239\n",
      "Data columns (total 37 columns):\n",
      " #   Column                                         Non-Null Count  Dtype  \n",
      "---  ------                                         --------------  -----  \n",
      " 0   Prospect ID                                    9240 non-null   object \n",
      " 1   Lead Number                                    9240 non-null   int64  \n",
      " 2   Lead Origin                                    9240 non-null   object \n",
      " 3   Lead Source                                    9204 non-null   object \n",
      " 4   Do Not Email                                   9240 non-null   object \n",
      " 5   Do Not Call                                    9240 non-null   object \n",
      " 6   Converted                                      9240 non-null   int64  \n",
      " 7   TotalVisits                                    9103 non-null   float64\n",
      " 8   Total Time Spent on Website                    9240 non-null   int64  \n",
      " 9   Page Views Per Visit                           9103 non-null   float64\n",
      " 10  Last Activity                                  9137 non-null   object \n",
      " 11  Country                                        6779 non-null   object \n",
      " 12  Specialization                                 7802 non-null   object \n",
      " 13  How did you hear about X Education             7033 non-null   object \n",
      " 14  What is your current occupation                6550 non-null   object \n",
      " 15  What matters most to you in choosing a course  6531 non-null   object \n",
      " 16  Search                                         9240 non-null   object \n",
      " 17  Magazine                                       9240 non-null   object \n",
      " 18  Newspaper Article                              9240 non-null   object \n",
      " 19  X Education Forums                             9240 non-null   object \n",
      " 20  Newspaper                                      9240 non-null   object \n",
      " 21  Digital Advertisement                          9240 non-null   object \n",
      " 22  Through Recommendations                        9240 non-null   object \n",
      " 23  Receive More Updates About Our Courses         9240 non-null   object \n",
      " 24  Tags                                           5887 non-null   object \n",
      " 25  Lead Quality                                   4473 non-null   object \n",
      " 26  Update me on Supply Chain Content              9240 non-null   object \n",
      " 27  Get updates on DM Content                      9240 non-null   object \n",
      " 28  Lead Profile                                   6531 non-null   object \n",
      " 29  City                                           7820 non-null   object \n",
      " 30  Asymmetrique Activity Index                    5022 non-null   object \n",
      " 31  Asymmetrique Profile Index                     5022 non-null   object \n",
      " 32  Asymmetrique Activity Score                    5022 non-null   float64\n",
      " 33  Asymmetrique Profile Score                     5022 non-null   float64\n",
      " 34  I agree to pay the amount through cheque       9240 non-null   object \n",
      " 35  A free copy of Mastering The Interview         9240 non-null   object \n",
      " 36  Last Notable Activity                          9240 non-null   object \n",
      "dtypes: float64(4), int64(3), object(30)\n",
      "memory usage: 2.6+ MB\n"
     ]
    }
   ],
   "source": [
    "#Lets have a look at all the columns, their datatypes and also get an idea of null values present\n",
    "df.info()"
   ]
  },
  {
   "cell_type": "code",
   "execution_count": null,
   "id": "5e731c39-1d68-42dd-9087-813def4722bc",
   "metadata": {},
   "outputs": [],
   "source": [
    "## Observations\n",
    "\n",
    "A large number of columns have null values. Those columns should ideally be dropped\n",
    "Prospect ID and Lead Number both serve the same purpose. They are both unique identifiers. We will drop Prospect ID\n",
    "Column names are just too long. We will modify the column names\n",
    "Few categorical columns have \"Select\" in their entries. Those select are essentially null values because Select appears when someone does not select anything from the dropdown\n",
    "\n",
    "### Data Cleaning\n",
    "\n",
    "Rename column names\n",
    "Long column names make analysis tiring as one has to always refer to column names. Also has impact on charts created later on\n",
    "Ideally, we should follow python's preferred Snakecase nomenclature"
   ]
  },
  {
   "cell_type": "code",
   "execution_count": 14,
   "id": "36dad127-0b05-460d-affc-6238e6ace6b7",
   "metadata": {
    "tags": []
   },
   "outputs": [
    {
     "data": {
      "text/plain": [
       "Index(['prospect_id', 'lead_number', 'lead_origin', 'lead_source',\n",
       "       'do_not_email', 'do_not_call', 'converted', 'totalvisits',\n",
       "       'total_time_spent_on_website', 'page_views_per_visit', 'last_activity',\n",
       "       'country', 'specialization', 'how_did_you_hear_about_x_education',\n",
       "       'what_is_your_current_occupation',\n",
       "       'what_matters_most_to_you_in_choosing_a_course', 'search', 'magazine',\n",
       "       'newspaper_article', 'x_education_forums', 'newspaper',\n",
       "       'digital_advertisement', 'through_recommendations',\n",
       "       'receive_more_updates_about_our_courses', 'tags', 'lead_quality',\n",
       "       'update_me_on_supply_chain_content', 'get_updates_on_dm_content',\n",
       "       'lead_profile', 'city', 'asymmetrique_activity_index',\n",
       "       'asymmetrique_profile_index', 'asymmetrique_activity_score',\n",
       "       'asymmetrique_profile_score',\n",
       "       'i_agree_to_pay_the_amount_through_cheque',\n",
       "       'a_free_copy_of_mastering_the_interview', 'last_notable_activity'],\n",
       "      dtype='object')"
      ]
     },
     "execution_count": 14,
     "metadata": {},
     "output_type": "execute_result"
    }
   ],
   "source": [
    "# change nomenclature to snakecase\n",
    "df.columns = df.columns.str.replace(' ', '_').str.lower()\n",
    "\n",
    "# test\n",
    "df.columns"
   ]
  },
  {
   "cell_type": "code",
   "execution_count": 15,
   "id": "a0ffdc94-dee8-4b90-bf6d-413a3473e3b8",
   "metadata": {
    "tags": []
   },
   "outputs": [
    {
     "data": {
      "text/html": [
       "<div>\n",
       "<style scoped>\n",
       "    .dataframe tbody tr th:only-of-type {\n",
       "        vertical-align: middle;\n",
       "    }\n",
       "\n",
       "    .dataframe tbody tr th {\n",
       "        vertical-align: top;\n",
       "    }\n",
       "\n",
       "    .dataframe thead th {\n",
       "        text-align: right;\n",
       "    }\n",
       "</style>\n",
       "<table border=\"1\" class=\"dataframe\">\n",
       "  <thead>\n",
       "    <tr style=\"text-align: right;\">\n",
       "      <th></th>\n",
       "      <th>prospect_id</th>\n",
       "      <th>lead_number</th>\n",
       "      <th>lead_origin</th>\n",
       "      <th>lead_source</th>\n",
       "      <th>do_not_email</th>\n",
       "      <th>do_not_call</th>\n",
       "      <th>converted</th>\n",
       "      <th>total_visits</th>\n",
       "      <th>time_on_website</th>\n",
       "      <th>page_views_per_visit</th>\n",
       "      <th>last_activity</th>\n",
       "      <th>country</th>\n",
       "      <th>specialization</th>\n",
       "      <th>source</th>\n",
       "      <th>occupation</th>\n",
       "      <th>course_selection_reason</th>\n",
       "      <th>search</th>\n",
       "      <th>magazine</th>\n",
       "      <th>newspaper_article</th>\n",
       "      <th>x_education_forums</th>\n",
       "      <th>newspaper</th>\n",
       "      <th>digital_advertisement</th>\n",
       "      <th>through_recommendations</th>\n",
       "      <th>courses_updates</th>\n",
       "      <th>tags</th>\n",
       "      <th>lead_quality</th>\n",
       "      <th>supply_chain_content_updates</th>\n",
       "      <th>dm_content_updates</th>\n",
       "      <th>lead_profile</th>\n",
       "      <th>city</th>\n",
       "      <th>asymmetrique_activity_index</th>\n",
       "      <th>asymmetrique_profile_index</th>\n",
       "      <th>asymmetrique_activity_score</th>\n",
       "      <th>asymmetrique_profile_score</th>\n",
       "      <th>cheque_payment</th>\n",
       "      <th>mastering_interview</th>\n",
       "      <th>last_notable_activity</th>\n",
       "    </tr>\n",
       "  </thead>\n",
       "  <tbody>\n",
       "    <tr>\n",
       "      <th>0</th>\n",
       "      <td>7927b2df-8bba-4d29-b9a2-b6e0beafe620</td>\n",
       "      <td>660737</td>\n",
       "      <td>API</td>\n",
       "      <td>Olark Chat</td>\n",
       "      <td>No</td>\n",
       "      <td>No</td>\n",
       "      <td>0</td>\n",
       "      <td>0.00</td>\n",
       "      <td>0</td>\n",
       "      <td>0.00</td>\n",
       "      <td>Page Visited on Website</td>\n",
       "      <td>NaN</td>\n",
       "      <td>Select</td>\n",
       "      <td>Select</td>\n",
       "      <td>Unemployed</td>\n",
       "      <td>Better Career Prospects</td>\n",
       "      <td>No</td>\n",
       "      <td>No</td>\n",
       "      <td>No</td>\n",
       "      <td>No</td>\n",
       "      <td>No</td>\n",
       "      <td>No</td>\n",
       "      <td>No</td>\n",
       "      <td>No</td>\n",
       "      <td>Interested in other courses</td>\n",
       "      <td>Low in Relevance</td>\n",
       "      <td>No</td>\n",
       "      <td>No</td>\n",
       "      <td>Select</td>\n",
       "      <td>Select</td>\n",
       "      <td>02.Medium</td>\n",
       "      <td>02.Medium</td>\n",
       "      <td>15.00</td>\n",
       "      <td>15.00</td>\n",
       "      <td>No</td>\n",
       "      <td>No</td>\n",
       "      <td>Modified</td>\n",
       "    </tr>\n",
       "  </tbody>\n",
       "</table>\n",
       "</div>"
      ],
      "text/plain": [
       "                            prospect_id  lead_number lead_origin lead_source  \\\n",
       "0  7927b2df-8bba-4d29-b9a2-b6e0beafe620       660737         API  Olark Chat   \n",
       "\n",
       "  do_not_email do_not_call  converted  total_visits  time_on_website  \\\n",
       "0           No          No          0          0.00                0   \n",
       "\n",
       "   page_views_per_visit            last_activity country specialization  \\\n",
       "0                  0.00  Page Visited on Website     NaN         Select   \n",
       "\n",
       "   source  occupation  course_selection_reason search magazine  \\\n",
       "0  Select  Unemployed  Better Career Prospects     No       No   \n",
       "\n",
       "  newspaper_article x_education_forums newspaper digital_advertisement  \\\n",
       "0                No                 No        No                    No   \n",
       "\n",
       "  through_recommendations courses_updates                         tags  \\\n",
       "0                      No              No  Interested in other courses   \n",
       "\n",
       "       lead_quality supply_chain_content_updates dm_content_updates  \\\n",
       "0  Low in Relevance                           No                 No   \n",
       "\n",
       "  lead_profile    city asymmetrique_activity_index asymmetrique_profile_index  \\\n",
       "0       Select  Select                   02.Medium                  02.Medium   \n",
       "\n",
       "   asymmetrique_activity_score  asymmetrique_profile_score cheque_payment  \\\n",
       "0                        15.00                       15.00             No   \n",
       "\n",
       "  mastering_interview last_notable_activity  \n",
       "0                  No              Modified  "
      ]
     },
     "execution_count": 15,
     "metadata": {},
     "output_type": "execute_result"
    }
   ],
   "source": [
    "# shorten column names\n",
    "df.rename(columns = {'totalvisits': 'total_visits', 'total_time_spent_on_website': 'time_on_website', \n",
    "                    'how_did_you_hear_about_x_education': 'source', 'what_is_your_current_occupation': 'occupation',\n",
    "                    'what_matters_most_to_you_in_choosing_a_course' : 'course_selection_reason', \n",
    "                    'receive_more_updates_about_our_courses': 'courses_updates', \n",
    "                     'update_me_on_supply_chain_content': 'supply_chain_content_updates',\n",
    "                    'get_updates_on_dm_content': 'dm_content_updates',\n",
    "                    'i_agree_to_pay_the_amount_through_cheque': 'cheque_payment',\n",
    "                    'a_free_copy_of_mastering_the_interview': 'mastering_interview'}, inplace = True)\n",
    "\n",
    "df.head(1)"
   ]
  },
  {
   "cell_type": "code",
   "execution_count": null,
   "id": "4416f322-0e3e-43c3-8859-2d198710c271",
   "metadata": {},
   "outputs": [],
   "source": [
    "df.drop('prospect_id', axis = 1, inplace = True)"
   ]
  },
  {
   "cell_type": "code",
   "execution_count": null,
   "id": "d8a50505-c00a-4484-80dc-a53488ea2f2c",
   "metadata": {},
   "outputs": [],
   "source": [
    "### Replace \"Select\" category with null values"
   ]
  },
  {
   "cell_type": "code",
   "execution_count": 18,
   "id": "f2fc0217-e9fb-442b-8dc9-e6066c4eaff4",
   "metadata": {
    "tags": []
   },
   "outputs": [
    {
     "name": "stdout",
     "output_type": "stream",
     "text": [
      "['specialization', 'source', 'lead_profile', 'city']\n"
     ]
    }
   ],
   "source": [
    "# Select all non-numeric columns\n",
    "df_obj = df.select_dtypes(include='object')\n",
    "\n",
    "# Find out columns that have \"Select\"\n",
    "s = lambda x: x.str.contains('Select', na=False)\n",
    "l = df_obj.columns[df_obj.apply(s).any()].tolist()\n",
    "print (l)"
   ]
  },
  {
   "cell_type": "code",
   "execution_count": null,
   "id": "76af14c5-fbd6-4403-abd7-f96e485c05e7",
   "metadata": {},
   "outputs": [],
   "source": [
    "## There are 4 columns that contains `Select`, which are effectively null values. We are going to make that change "
   ]
  },
  {
   "cell_type": "code",
   "execution_count": 19,
   "id": "d919861d-1fec-4e47-a93e-b4a304a4bf40",
   "metadata": {
    "tags": []
   },
   "outputs": [],
   "source": [
    "# select all the columns that have a \"Select\" entry\n",
    "sel_cols = ['specialization', 'source', 'lead_profile', 'city']\n",
    "\n",
    "# replace values\n",
    "df[sel_cols] = df[sel_cols].replace('Select', np.NaN)"
   ]
  },
  {
   "cell_type": "code",
   "execution_count": null,
   "id": "6b7f5a55-21b0-4f78-adb0-adf090297f82",
   "metadata": {},
   "outputs": [],
   "source": [
    "## ### Handle null values and sales generated columns\n",
    "\n",
    "- Given there are a number of columns with very high number of null entries, let's calculate the percentage of null values in each column, and take a decision from there.\n",
    "- Furthermore, we can also drop Sales generated columns because those are the data entries that are made after the sales team has connected with the student. Those data have no bearing to the purpose of our model ie. providing lead score. The columns are\n",
    "    * `tags`\n",
    "    * `lead_quality`\n",
    "    * all `asymmetrique` columns\n",
    "    * `last_activity`\n",
    "    * `last_notable_activity`"
   ]
  },
  {
   "cell_type": "code",
   "execution_count": 20,
   "id": "edb8dbce-06db-42ca-a4cf-906927e01df4",
   "metadata": {
    "tags": []
   },
   "outputs": [
    {
     "data": {
      "text/plain": [
       "lead_number                     0.00\n",
       "lead_origin                     0.00\n",
       "lead_source                     0.39\n",
       "do_not_email                    0.00\n",
       "do_not_call                     0.00\n",
       "converted                       0.00\n",
       "total_visits                    1.48\n",
       "time_on_website                 0.00\n",
       "page_views_per_visit            1.48\n",
       "last_activity                   1.11\n",
       "country                        26.63\n",
       "specialization                 36.58\n",
       "source                         78.46\n",
       "occupation                     29.11\n",
       "course_selection_reason        29.32\n",
       "search                          0.00\n",
       "magazine                        0.00\n",
       "newspaper_article               0.00\n",
       "x_education_forums              0.00\n",
       "newspaper                       0.00\n",
       "digital_advertisement           0.00\n",
       "through_recommendations         0.00\n",
       "courses_updates                 0.00\n",
       "tags                           36.29\n",
       "lead_quality                   51.59\n",
       "supply_chain_content_updates    0.00\n",
       "dm_content_updates              0.00\n",
       "lead_profile                   74.19\n",
       "city                           39.71\n",
       "asymmetrique_activity_index    45.65\n",
       "asymmetrique_profile_index     45.65\n",
       "asymmetrique_activity_score    45.65\n",
       "asymmetrique_profile_score     45.65\n",
       "cheque_payment                  0.00\n",
       "mastering_interview             0.00\n",
       "last_notable_activity           0.00\n",
       "dtype: float64"
      ]
     },
     "execution_count": 20,
     "metadata": {},
     "output_type": "execute_result"
    }
   ],
   "source": [
    "# Calculate percentage of null values for each column\n",
    "(df.isnull().sum() / df.shape[0]) * 100"
   ]
  },
  {
   "cell_type": "code",
   "execution_count": null,
   "id": "e069ebcf-c074-4193-91c2-9eff480deb84",
   "metadata": {},
   "outputs": [],
   "source": [
    "## Observation: As can be seen, there are quite a few columns with high number of missing data. Since there are no ways to get data back from reliable sources, we can drop all those columns that have missing values > 40%\n",
    "\n",
    "Drop columns that have null values > 40% or Sales generated columns"
   ]
  },
  {
   "cell_type": "code",
   "execution_count": 21,
   "id": "2be84b12-0b1d-4a37-9be2-1f84e70329c7",
   "metadata": {
    "tags": []
   },
   "outputs": [
    {
     "data": {
      "text/html": [
       "<div>\n",
       "<style scoped>\n",
       "    .dataframe tbody tr th:only-of-type {\n",
       "        vertical-align: middle;\n",
       "    }\n",
       "\n",
       "    .dataframe tbody tr th {\n",
       "        vertical-align: top;\n",
       "    }\n",
       "\n",
       "    .dataframe thead th {\n",
       "        text-align: right;\n",
       "    }\n",
       "</style>\n",
       "<table border=\"1\" class=\"dataframe\">\n",
       "  <thead>\n",
       "    <tr style=\"text-align: right;\">\n",
       "      <th></th>\n",
       "      <th>lead_number</th>\n",
       "      <th>lead_origin</th>\n",
       "      <th>lead_source</th>\n",
       "      <th>do_not_email</th>\n",
       "      <th>do_not_call</th>\n",
       "      <th>converted</th>\n",
       "      <th>total_visits</th>\n",
       "      <th>time_on_website</th>\n",
       "      <th>page_views_per_visit</th>\n",
       "      <th>country</th>\n",
       "      <th>specialization</th>\n",
       "      <th>occupation</th>\n",
       "      <th>course_selection_reason</th>\n",
       "      <th>search</th>\n",
       "      <th>magazine</th>\n",
       "      <th>newspaper_article</th>\n",
       "      <th>x_education_forums</th>\n",
       "      <th>newspaper</th>\n",
       "      <th>digital_advertisement</th>\n",
       "      <th>through_recommendations</th>\n",
       "      <th>courses_updates</th>\n",
       "      <th>supply_chain_content_updates</th>\n",
       "      <th>dm_content_updates</th>\n",
       "      <th>city</th>\n",
       "      <th>cheque_payment</th>\n",
       "      <th>mastering_interview</th>\n",
       "    </tr>\n",
       "  </thead>\n",
       "  <tbody>\n",
       "    <tr>\n",
       "      <th>0</th>\n",
       "      <td>660737</td>\n",
       "      <td>API</td>\n",
       "      <td>Olark Chat</td>\n",
       "      <td>No</td>\n",
       "      <td>No</td>\n",
       "      <td>0</td>\n",
       "      <td>0.00</td>\n",
       "      <td>0</td>\n",
       "      <td>0.00</td>\n",
       "      <td>NaN</td>\n",
       "      <td>NaN</td>\n",
       "      <td>Unemployed</td>\n",
       "      <td>Better Career Prospects</td>\n",
       "      <td>No</td>\n",
       "      <td>No</td>\n",
       "      <td>No</td>\n",
       "      <td>No</td>\n",
       "      <td>No</td>\n",
       "      <td>No</td>\n",
       "      <td>No</td>\n",
       "      <td>No</td>\n",
       "      <td>No</td>\n",
       "      <td>No</td>\n",
       "      <td>NaN</td>\n",
       "      <td>No</td>\n",
       "      <td>No</td>\n",
       "    </tr>\n",
       "  </tbody>\n",
       "</table>\n",
       "</div>"
      ],
      "text/plain": [
       "   lead_number lead_origin lead_source do_not_email do_not_call  converted  \\\n",
       "0       660737         API  Olark Chat           No          No          0   \n",
       "\n",
       "   total_visits  time_on_website  page_views_per_visit country specialization  \\\n",
       "0          0.00                0                  0.00     NaN            NaN   \n",
       "\n",
       "   occupation  course_selection_reason search magazine newspaper_article  \\\n",
       "0  Unemployed  Better Career Prospects     No       No                No   \n",
       "\n",
       "  x_education_forums newspaper digital_advertisement through_recommendations  \\\n",
       "0                 No        No                    No                      No   \n",
       "\n",
       "  courses_updates supply_chain_content_updates dm_content_updates city  \\\n",
       "0              No                           No                 No  NaN   \n",
       "\n",
       "  cheque_payment mastering_interview  \n",
       "0             No                  No  "
      ]
     },
     "execution_count": 21,
     "metadata": {},
     "output_type": "execute_result"
    }
   ],
   "source": [
    "    df.drop(['source', 'lead_quality', 'lead_profile', 'asymmetrique_activity_index', \n",
    "                      'asymmetrique_profile_index', 'asymmetrique_activity_score', 'asymmetrique_profile_score',\n",
    "        'tags', 'last_activity', 'last_notable_activity'], \n",
    "        axis = 1, inplace = True)\n",
    "\n",
    "df.head(1)"
   ]
  },
  {
   "cell_type": "code",
   "execution_count": 22,
   "id": "f8314b69-11b7-4ff1-bc95-916425f781ce",
   "metadata": {
    "tags": []
   },
   "outputs": [
    {
     "data": {
      "text/plain": [
       "lead_number                     0.00\n",
       "lead_origin                     0.00\n",
       "lead_source                     0.39\n",
       "do_not_email                    0.00\n",
       "do_not_call                     0.00\n",
       "converted                       0.00\n",
       "total_visits                    1.48\n",
       "time_on_website                 0.00\n",
       "page_views_per_visit            1.48\n",
       "country                        26.63\n",
       "specialization                 36.58\n",
       "occupation                     29.11\n",
       "course_selection_reason        29.32\n",
       "search                          0.00\n",
       "magazine                        0.00\n",
       "newspaper_article               0.00\n",
       "x_education_forums              0.00\n",
       "newspaper                       0.00\n",
       "digital_advertisement           0.00\n",
       "through_recommendations         0.00\n",
       "courses_updates                 0.00\n",
       "supply_chain_content_updates    0.00\n",
       "dm_content_updates              0.00\n",
       "city                           39.71\n",
       "cheque_payment                  0.00\n",
       "mastering_interview             0.00\n",
       "dtype: float64"
      ]
     },
     "execution_count": 22,
     "metadata": {},
     "output_type": "execute_result"
    }
   ],
   "source": [
    "# Lets look at what are we left with\n",
    "# Calculate percentage of null values for each column\n",
    "(df.isnull().sum() / df.shape[0]) * 100"
   ]
  },
  {
   "cell_type": "code",
   "execution_count": null,
   "id": "d974594e-94b5-48ce-bd91-8cfc0f25c7a7",
   "metadata": {},
   "outputs": [],
   "source": [
    "## **Observations**\n",
    "<br>There are five columns that still have high null values: `country`, `specialization`, `occupation`, `course_selection_reason`, and `city`. We will look at them individually to see what can be done"
   ]
  },
  {
   "cell_type": "code",
   "execution_count": null,
   "id": "a81e9c80-20e8-4e41-ba7c-d607f77063ee",
   "metadata": {},
   "outputs": [],
   "source": [
    "## country column"
   ]
  },
  {
   "cell_type": "code",
   "execution_count": 24,
   "id": "78ea3cde-bc29-4497-b872-3975de83d476",
   "metadata": {
    "tags": []
   },
   "outputs": [
    {
     "data": {
      "text/plain": [
       "country\n",
       "India                  70.26\n",
       "NaN                    26.63\n",
       "United States           0.75\n",
       "United Arab Emirates    0.57\n",
       "Singapore               0.26\n",
       "Saudi Arabia            0.23\n",
       "United Kingdom          0.16\n",
       "Australia               0.14\n",
       "Qatar                   0.11\n",
       "Bahrain                 0.08\n",
       "Hong Kong               0.08\n",
       "Oman                    0.06\n",
       "France                  0.06\n",
       "unknown                 0.05\n",
       "Kuwait                  0.04\n",
       "South Africa            0.04\n",
       "Canada                  0.04\n",
       "Nigeria                 0.04\n",
       "Germany                 0.04\n",
       "Sweden                  0.03\n",
       "Philippines             0.02\n",
       "Uganda                  0.02\n",
       "Italy                   0.02\n",
       "Bangladesh              0.02\n",
       "Netherlands             0.02\n",
       "Asia/Pacific Region     0.02\n",
       "China                   0.02\n",
       "Belgium                 0.02\n",
       "Ghana                   0.02\n",
       "Kenya                   0.01\n",
       "Sri Lanka               0.01\n",
       "Tanzania                0.01\n",
       "Malaysia                0.01\n",
       "Liberia                 0.01\n",
       "Switzerland             0.01\n",
       "Denmark                 0.01\n",
       "Russia                  0.01\n",
       "Vietnam                 0.01\n",
       "Indonesia               0.01\n",
       "Name: proportion, dtype: float64"
      ]
     },
     "execution_count": 24,
     "metadata": {},
     "output_type": "execute_result"
    }
   ],
   "source": [
    "df.country.value_counts(normalize = True, dropna = False) * 100"
   ]
  },
  {
   "cell_type": "code",
   "execution_count": null,
   "id": "70100ae3-6a91-4515-84c2-95867cd91df0",
   "metadata": {},
   "outputs": [],
   "source": [
    "## **Observation**\n",
    "<br> The distribution of the data is very heavily skewed, with India + null values = 97% of the total. It is safe to drop this column."
   ]
  },
  {
   "cell_type": "code",
   "execution_count": null,
   "id": "4c87a16b-4b85-4507-9c32-1cfa67430406",
   "metadata": {},
   "outputs": [],
   "source": [
    "df.drop('country', axis = 1, inplace = True)"
   ]
  },
  {
   "cell_type": "code",
   "execution_count": 26,
   "id": "fcec184d-c4e3-460c-98c2-1fe069fd8c61",
   "metadata": {
    "tags": []
   },
   "outputs": [],
   "source": [
    "#### 'course_selection_reason' column"
   ]
  },
  {
   "cell_type": "code",
   "execution_count": 27,
   "id": "77ebc3b5-a3eb-428b-80c4-ddc84cdeaa3f",
   "metadata": {
    "tags": []
   },
   "outputs": [
    {
     "data": {
      "text/plain": [
       "course_selection_reason\n",
       "Better Career Prospects     70.65\n",
       "NaN                         29.32\n",
       "Flexibility & Convenience    0.02\n",
       "Other                        0.01\n",
       "Name: proportion, dtype: float64"
      ]
     },
     "execution_count": 27,
     "metadata": {},
     "output_type": "execute_result"
    }
   ],
   "source": [
    "df.course_selection_reason.value_counts(normalize = True, dropna = False) * 100"
   ]
  },
  {
   "cell_type": "code",
   "execution_count": null,
   "id": "2378a9fe-83ac-430f-b879-5ab66671500b",
   "metadata": {},
   "outputs": [],
   "source": [
    "## **Observation**\n",
    "<br> The distribution of the data is very heavily skewed, with Better career prospects + null values = approx 100% of the total. It is safe to drop this column."
   ]
  },
  {
   "cell_type": "code",
   "execution_count": null,
   "id": "823ace4f-d1bc-4732-a850-f5c33a918f14",
   "metadata": {},
   "outputs": [],
   "source": [
    "df.drop('course_selection_reason', axis = 1, inplace = True)"
   ]
  },
  {
   "cell_type": "code",
   "execution_count": null,
   "id": "b9b35cd5-ac6e-4035-afd6-193f62a4f8a5",
   "metadata": {},
   "outputs": [],
   "source": [
    "#### `occupation` column"
   ]
  },
  {
   "cell_type": "code",
   "execution_count": 28,
   "id": "e00a6f82-26e2-43c5-8e27-6bbf09c48115",
   "metadata": {
    "tags": []
   },
   "outputs": [
    {
     "data": {
      "text/plain": [
       "occupation\n",
       "Unemployed             60.61\n",
       "NaN                    29.11\n",
       "Working Professional    7.64\n",
       "Student                 2.27\n",
       "Other                   0.17\n",
       "Housewife               0.11\n",
       "Businessman             0.09\n",
       "Name: proportion, dtype: float64"
      ]
     },
     "execution_count": 28,
     "metadata": {},
     "output_type": "execute_result"
    }
   ],
   "source": [
    "df.occupation.value_counts(normalize = True, dropna = False) * 100"
   ]
  },
  {
   "cell_type": "code",
   "execution_count": null,
   "id": "faaab0b4-f9a3-4697-bd6c-342d8e56fc23",
   "metadata": {},
   "outputs": [],
   "source": [
    "## **Observation**\n",
    "For occupation, we can first combine categories, and then impute proportionally to maintain the distribution and not introduce bias"
   ]
  },
  {
   "cell_type": "code",
   "execution_count": 34,
   "id": "a5bfde50-cdff-4640-bfef-9a01f637d35f",
   "metadata": {
    "tags": []
   },
   "outputs": [],
   "source": [
    "# combine low representing categories\n",
    "df.loc[(df.occupation == 'Student') | (df.occupation == 'Other') | (df.occupation == 'Housewife') | \n",
    "       (df.occupation == 'Businessman') , 'occupation'] = 'Student and Others'"
   ]
  },
  {
   "cell_type": "code",
   "execution_count": 35,
   "id": "90425870-b3a3-48ee-8835-9a7e2cbc91e6",
   "metadata": {
    "tags": []
   },
   "outputs": [
    {
     "data": {
      "text/plain": [
       "occupation\n",
       "Unemployed             85.50\n",
       "Working Professional   10.78\n",
       "Student and Others      3.73\n",
       "Name: proportion, dtype: float64"
      ]
     },
     "execution_count": 35,
     "metadata": {},
     "output_type": "execute_result"
    }
   ],
   "source": [
    "df.occupation.value_counts(normalize = True) * 100"
   ]
  },
  {
   "cell_type": "code",
   "execution_count": null,
   "id": "5def892b-c9b0-4846-9f3a-d0565e150ff5",
   "metadata": {},
   "outputs": [],
   "source": [
    "# impute proportionately\n",
    "df['occupation'] = df.occupation.fillna(pd.Series(np.random.choice(['Unemployed', 'Working Professional', \n",
    "                                                                    'Student and Others'], \n",
    "                                                                   p = [0.8550, 0.1078, 0.0372], size = len(df))))"
   ]
  },
  {
   "cell_type": "code",
   "execution_count": null,
   "id": "9533b0cd-b5d4-4154-8e54-8e24c7616fc0",
   "metadata": {},
   "outputs": [],
   "source": [
    "#### `specialization` column"
   ]
  },
  {
   "cell_type": "code",
   "execution_count": 30,
   "id": "df0bb309-8daa-4eac-adf1-fa01e189d5ef",
   "metadata": {
    "tags": []
   },
   "outputs": [
    {
     "data": {
      "text/plain": [
       "specialization\n",
       "NaN                                 36.58\n",
       "Finance Management                  10.56\n",
       "Human Resource Management            9.18\n",
       "Marketing Management                 9.07\n",
       "Operations Management                5.44\n",
       "Business Administration              4.36\n",
       "IT Projects Management               3.96\n",
       "Supply Chain Management              3.78\n",
       "Banking, Investment And Insurance    3.66\n",
       "Travel and Tourism                   2.20\n",
       "Media and Advertising                2.20\n",
       "International Business               1.93\n",
       "Healthcare Management                1.72\n",
       "Hospitality Management               1.23\n",
       "E-COMMERCE                           1.21\n",
       "Retail Management                    1.08\n",
       "Rural and Agribusiness               0.79\n",
       "E-Business                           0.62\n",
       "Services Excellence                  0.43\n",
       "Name: proportion, dtype: float64"
      ]
     },
     "execution_count": 30,
     "metadata": {},
     "output_type": "execute_result"
    }
   ],
   "source": [
    "df.specialization.value_counts(normalize = True, dropna = False) * 100"
   ]
  },
  {
   "cell_type": "code",
   "execution_count": null,
   "id": "17b8a4e7-7724-49cf-9fd4-c1af99a39371",
   "metadata": {},
   "outputs": [],
   "source": [
    "### Observation** For specialization, we can first combine categories based on the course type, and then impute proportionally to maintain the distribution and not introduce bias"
   ]
  },
  {
   "cell_type": "code",
   "execution_count": 32,
   "id": "41b5b60d-6cd8-424c-8e1e-cf7e85af9bf1",
   "metadata": {
    "tags": []
   },
   "outputs": [],
   "source": [
    "# categorize all management courses\n",
    "df.loc[(df.specialization == 'Finance Management') | (df.specialization == 'Human Resource Management') | \n",
    "       (df.specialization == 'Marketing Management') |  (df.specialization == 'Operations Management') |\n",
    "       (df.specialization == 'IT Projects Management') | (df.specialization == 'Supply Chain Management') |\n",
    "       (df.specialization == 'Healthcare Management') | (df.specialization == 'Hospitality Management') |\n",
    "       (df.specialization == 'Retail Management') , 'specialization'] = 'Management Specializations'\n",
    "\n",
    "# categorize all busines courses\n",
    "df.loc[(df.specialization == 'Business Administration') | (df.specialization == 'International Business') | \n",
    "       (df.specialization == 'Rural and Agribusiness') | (df.specialization == 'E-Business') \n",
    "        , 'specialization'] = 'Business Specializations'\n",
    "\n",
    "# categorize all industry courses\n",
    "df.loc[(df.specialization == 'Banking, Investment And Insurance') | (df.specialization == 'Media and Advertising') |\n",
    "       (df.specialization == 'Travel and Tourism') | (df.specialization == 'Services Excellence') |\n",
    "       (df.specialization == 'E-COMMERCE'), 'specialization'] = 'Industry Specializations'"
   ]
  },
  {
   "cell_type": "code",
   "execution_count": 33,
   "id": "a3fb4f71-cbac-4485-bc92-393045fccf8b",
   "metadata": {
    "tags": []
   },
   "outputs": [
    {
     "data": {
      "text/plain": [
       "specialization\n",
       "Management Specializations   72.58\n",
       "Industry Specializations     15.29\n",
       "Business Specializations     12.13\n",
       "Name: proportion, dtype: float64"
      ]
     },
     "execution_count": 33,
     "metadata": {},
     "output_type": "execute_result"
    }
   ],
   "source": [
    "df.specialization.value_counts(normalize = True) * 100"
   ]
  },
  {
   "cell_type": "code",
   "execution_count": 37,
   "id": "8d19613b-7d0b-45e6-8fce-2afc4ee1c5b9",
   "metadata": {
    "tags": []
   },
   "outputs": [],
   "source": [
    "# impute proportionately\n",
    "df['specialization'] = df.specialization.fillna(pd.Series(np.random.choice(['Management Specializations',  \n",
    "                                                    'Business Specializations', 'Industry Specializations'], \n",
    "                                                                   p = [0.7258, 0.1213, 0.1529 ], size = len(df))))"
   ]
  },
  {
   "cell_type": "code",
   "execution_count": null,
   "id": "9c0aa45c-8c4b-44b5-8f13-60a26761812b",
   "metadata": {},
   "outputs": [],
   "source": [
    "##`city` column"
   ]
  },
  {
   "cell_type": "code",
   "execution_count": 39,
   "id": "f44e767f-978e-4059-a31e-b4eb339f8f8f",
   "metadata": {
    "tags": []
   },
   "outputs": [
    {
     "data": {
      "text/plain": [
       "city\n",
       "NaN                           39.71\n",
       "Mumbai                        34.87\n",
       "Thane & Outskirts              8.14\n",
       "Other Cities                   7.42\n",
       "Other Cities of Maharashtra    4.95\n",
       "Other Metro Cities             4.11\n",
       "Tier II Cities                 0.80\n",
       "Name: proportion, dtype: float64"
      ]
     },
     "execution_count": 39,
     "metadata": {},
     "output_type": "execute_result"
    }
   ],
   "source": [
    "df.city.value_counts(normalize = True, dropna = False) * 100"
   ]
  },
  {
   "cell_type": "code",
   "execution_count": null,
   "id": "6b9d1eb0-8e09-4d85-8f2a-a6ec2cadb722",
   "metadata": {},
   "outputs": [],
   "source": [
    "### Observations\n",
    "We will categorize cities based on logical decisions and impute proportionately"
   ]
  },
  {
   "cell_type": "code",
   "execution_count": 40,
   "id": "4e93bdb5-18ad-4476-8142-93628da97126",
   "metadata": {
    "tags": []
   },
   "outputs": [],
   "source": [
    "# categorize all non-mumbai, but Maharashtra cities\n",
    "df.loc[(df.city == 'Thane & Outskirts') | (df.city == 'Other Cities of Maharashtra'), \n",
    "       'city'] = 'Non-Mumbai Maharashtra Cities'\n",
    "\n",
    "# categorize all other cities\n",
    "df.loc[(df.city == 'Other Cities') | (df.city == 'Other Metro Cities') | (df.city == 'Tier II Cities') , \n",
    "       'city'] = 'Non-Maharashtra Cities'"
   ]
  },
  {
   "cell_type": "code",
   "execution_count": 41,
   "id": "613d0b4d-9482-4292-b1e6-b84d538918b0",
   "metadata": {
    "tags": []
   },
   "outputs": [
    {
     "data": {
      "text/plain": [
       "city\n",
       "Mumbai                          57.84\n",
       "Non-Mumbai Maharashtra Cities   21.70\n",
       "Non-Maharashtra Cities          20.46\n",
       "Name: proportion, dtype: float64"
      ]
     },
     "execution_count": 41,
     "metadata": {},
     "output_type": "execute_result"
    }
   ],
   "source": [
    "df.city.value_counts(normalize = True) * 100"
   ]
  },
  {
   "cell_type": "code",
   "execution_count": 42,
   "id": "ba78f73d-f8d6-49cd-ad84-b96076008735",
   "metadata": {
    "tags": []
   },
   "outputs": [],
   "source": [
    "# impute proportionately\n",
    "df['city'] = df.city.fillna(pd.Series(np.random.choice(['Mumbai', 'Non-Mumbai Maharashtra Cities', \n",
    "                                                                    'Non-Maharashtra Cities'], \n",
    "                                                                   p = [0.5784, 0.2170, 0.2046 ], size = len(df))))"
   ]
  },
  {
   "cell_type": "code",
   "execution_count": null,
   "id": "24b64a4f-bfe2-4a93-acea-89ce5c66a0ef",
   "metadata": {},
   "outputs": [],
   "source": [
    "### Handle categorical columns with low number of missing values and low representation of categories\n",
    "\n",
    "In this step, we will go through the rest of the categorical columns one by one and\n",
    "* Merge categories that have low representation\n",
    "* Impute the missing values"
   ]
  },
  {
   "cell_type": "code",
   "execution_count": 43,
   "id": "6184d7e6-151f-4931-b0d7-87e4ed7cf6e5",
   "metadata": {
    "tags": []
   },
   "outputs": [
    {
     "data": {
      "text/plain": [
       "lead_number                     0.00\n",
       "lead_origin                     0.00\n",
       "lead_source                     0.39\n",
       "do_not_email                    0.00\n",
       "do_not_call                     0.00\n",
       "converted                       0.00\n",
       "total_visits                    1.48\n",
       "time_on_website                 0.00\n",
       "page_views_per_visit            1.48\n",
       "country                        26.63\n",
       "specialization                  0.00\n",
       "occupation                     29.11\n",
       "course_selection_reason        29.32\n",
       "search                          0.00\n",
       "magazine                        0.00\n",
       "newspaper_article               0.00\n",
       "x_education_forums              0.00\n",
       "newspaper                       0.00\n",
       "digital_advertisement           0.00\n",
       "through_recommendations         0.00\n",
       "courses_updates                 0.00\n",
       "supply_chain_content_updates    0.00\n",
       "dm_content_updates              0.00\n",
       "city                            0.00\n",
       "cheque_payment                  0.00\n",
       "mastering_interview             0.00\n",
       "dtype: float64"
      ]
     },
     "execution_count": 43,
     "metadata": {},
     "output_type": "execute_result"
    }
   ],
   "source": [
    "(df.isnull().sum() / df.shape[0]) * 100"
   ]
  },
  {
   "cell_type": "code",
   "execution_count": 44,
   "id": "3445efce-0ba6-41e3-9153-25f17de2c75b",
   "metadata": {
    "tags": []
   },
   "outputs": [
    {
     "name": "stdout",
     "output_type": "stream",
     "text": [
      "lead_origin = 5\n",
      "lead_source = 21\n",
      "do_not_email = 2\n",
      "do_not_call = 2\n",
      "country = 38\n",
      "specialization = 3\n",
      "occupation = 3\n",
      "course_selection_reason = 3\n",
      "search = 2\n",
      "magazine = 1\n",
      "newspaper_article = 2\n",
      "x_education_forums = 2\n",
      "newspaper = 2\n",
      "digital_advertisement = 2\n",
      "through_recommendations = 2\n",
      "courses_updates = 1\n",
      "supply_chain_content_updates = 1\n",
      "dm_content_updates = 1\n",
      "city = 3\n",
      "cheque_payment = 1\n",
      "mastering_interview = 2\n"
     ]
    }
   ],
   "source": [
    "# determine unique values for all object datatype columns\n",
    "for k, v in df.select_dtypes(include='object').nunique().to_dict().items():\n",
    "    print('{} = {}'.format(k,v))"
   ]
  },
  {
   "cell_type": "code",
   "execution_count": null,
   "id": "f314d657-dcab-461a-a008-c21e90da58ad",
   "metadata": {},
   "outputs": [],
   "source": [
    "## **Observation** As can be seen from the above output, the categorical columns (i.e. number of unique values > 2) are:\n",
    "* `lead_origin`\n",
    "* `lead_source`"
   ]
  },
  {
   "cell_type": "code",
   "execution_count": 45,
   "id": "3915277b-0f3e-405d-8a56-68c51e9de92e",
   "metadata": {
    "tags": []
   },
   "outputs": [],
   "source": [
    "## `lead_origin` column"
   ]
  },
  {
   "cell_type": "code",
   "execution_count": 46,
   "id": "97be1e8c-1146-4095-8c31-e24aa3ea40c5",
   "metadata": {
    "tags": []
   },
   "outputs": [
    {
     "data": {
      "text/plain": [
       "lead_origin\n",
       "Landing Page Submission   52.88\n",
       "API                       38.74\n",
       "Lead Add Form              7.77\n",
       "Lead Import                0.60\n",
       "Quick Add Form             0.01\n",
       "Name: proportion, dtype: float64"
      ]
     },
     "execution_count": 46,
     "metadata": {},
     "output_type": "execute_result"
    }
   ],
   "source": [
    "df.lead_origin.value_counts(normalize = True, dropna = False) * 100"
   ]
  },
  {
   "cell_type": "code",
   "execution_count": 47,
   "id": "87e13cf1-8ace-4cf8-8722-b70a32c21470",
   "metadata": {
    "tags": []
   },
   "outputs": [],
   "source": [
    "#There are a lot of smaller values which will not be used as definitive factors, lets group them together\n",
    "df.loc[(df.lead_origin == 'Lead Import') | (df.lead_origin == 'Quick Add Form') | (df.lead_origin == 'Lead Add Form')\n",
    "       , 'lead_origin'] = 'Lead Add Form and Others'"
   ]
  },
  {
   "cell_type": "code",
   "execution_count": null,
   "id": "98e99c52-0061-4a2d-8b8f-e9b3c2af303c",
   "metadata": {},
   "outputs": [],
   "source": [
    "#### `lead_source` column"
   ]
  },
  {
   "cell_type": "code",
   "execution_count": 48,
   "id": "9bc56dba-feda-4f6a-8581-98f47d2f4145",
   "metadata": {
    "tags": []
   },
   "outputs": [
    {
     "data": {
      "text/plain": [
       "lead_source\n",
       "Google              31.04\n",
       "Direct Traffic      27.52\n",
       "Olark Chat          18.99\n",
       "Organic Search      12.49\n",
       "Reference            5.78\n",
       "Welingak Website     1.54\n",
       "Referral Sites       1.35\n",
       "Facebook             0.60\n",
       "NaN                  0.39\n",
       "bing                 0.06\n",
       "google               0.05\n",
       "Click2call           0.04\n",
       "Press_Release        0.02\n",
       "Social Media         0.02\n",
       "Live Chat            0.02\n",
       "youtubechannel       0.01\n",
       "testone              0.01\n",
       "Pay per Click Ads    0.01\n",
       "welearnblog_Home     0.01\n",
       "WeLearn              0.01\n",
       "blog                 0.01\n",
       "NC_EDM               0.01\n",
       "Name: proportion, dtype: float64"
      ]
     },
     "execution_count": 48,
     "metadata": {},
     "output_type": "execute_result"
    }
   ],
   "source": [
    "df.lead_source.value_counts(normalize = True, dropna = False) * 100"
   ]
  },
  {
   "cell_type": "code",
   "execution_count": 49,
   "id": "8a6929be-6116-4535-8726-e49d66a10686",
   "metadata": {
    "tags": []
   },
   "outputs": [],
   "source": [
    "# Lets impute the missing values with the mode of data i.e. clearly 'Google'\n",
    "df.lead_source.fillna(df.lead_source.mode()[0], inplace=True)"
   ]
  },
  {
   "cell_type": "code",
   "execution_count": 50,
   "id": "92e72894-9331-4d13-94d9-70413d517101",
   "metadata": {
    "tags": []
   },
   "outputs": [],
   "source": [
    "#There are a lot of smaller values which will not be used as definitive factors, lets group them together\n",
    "df['lead_source'] = df['lead_source'].apply(lambda x: x if \n",
    "                                            ((x== 'Google') | (x=='Direct Traffic') | (x=='Olark Chat') | \n",
    "                                             (x=='Organic Search') | (x=='Reference')) \n",
    "                                            else 'Other Social Sites')"
   ]
  },
  {
   "cell_type": "code",
   "execution_count": null,
   "id": "c5b27ba2-f2c3-4259-8d22-ed7c0bc788a5",
   "metadata": {},
   "outputs": [],
   "source": [
    "## Handle Binary columns\n",
    "\n",
    "* Drop those columns that have significant data imbalance\n",
    "* Drop all those columns that have only 1 unique entry"
   ]
  },
  {
   "cell_type": "code",
   "execution_count": 51,
   "id": "c772d863-0878-4251-86a3-c7a8773f3381",
   "metadata": {
    "tags": []
   },
   "outputs": [
    {
     "name": "stdout",
     "output_type": "stream",
     "text": [
      "lead_origin = 3\n",
      "lead_source = 6\n",
      "do_not_email = 2\n",
      "do_not_call = 2\n",
      "country = 38\n",
      "specialization = 3\n",
      "occupation = 3\n",
      "course_selection_reason = 3\n",
      "search = 2\n",
      "magazine = 1\n",
      "newspaper_article = 2\n",
      "x_education_forums = 2\n",
      "newspaper = 2\n",
      "digital_advertisement = 2\n",
      "through_recommendations = 2\n",
      "courses_updates = 1\n",
      "supply_chain_content_updates = 1\n",
      "dm_content_updates = 1\n",
      "city = 3\n",
      "cheque_payment = 1\n",
      "mastering_interview = 2\n"
     ]
    }
   ],
   "source": [
    "# determine unique values\n",
    "for k, v in df.select_dtypes(include='object').nunique().to_dict().items():\n",
    "    print('{} = {}'.format(k,v))"
   ]
  },
  {
   "cell_type": "code",
   "execution_count": null,
   "id": "9f9dc0e6-4cda-48a7-a380-e258f89aab52",
   "metadata": {},
   "outputs": [],
   "source": [
    "### Observation**\n",
    "* The following columns can be dropped as they have just 1 unique values\n",
    "    * `magazine`\n",
    "    * `course_updates`\n",
    "    * `supply_chain_content_updates`\n",
    "    * `dm_content_updates`\n",
    "    * `cheque_payment`\n",
    "    \n",
    " Let's now check the data imbalance for the rest of the columns"
   ]
  },
  {
   "cell_type": "code",
   "execution_count": 52,
   "id": "5910976f-3807-48ff-b011-86dd65a21f78",
   "metadata": {
    "tags": []
   },
   "outputs": [
    {
     "name": "stdout",
     "output_type": "stream",
     "text": [
      "do_not_email\n",
      "No    92.06\n",
      "Yes    7.94\n",
      "Name: proportion, dtype: float64\n",
      "\n",
      "do_not_call\n",
      "No    99.98\n",
      "Yes    0.02\n",
      "Name: proportion, dtype: float64\n",
      "\n",
      "search\n",
      "No    99.85\n",
      "Yes    0.15\n",
      "Name: proportion, dtype: float64\n",
      "\n",
      "newspaper_article\n",
      "No    99.98\n",
      "Yes    0.02\n",
      "Name: proportion, dtype: float64\n",
      "\n",
      "x_education_forums\n",
      "No    99.99\n",
      "Yes    0.01\n",
      "Name: proportion, dtype: float64\n",
      "\n",
      "newspaper\n",
      "No    99.99\n",
      "Yes    0.01\n",
      "Name: proportion, dtype: float64\n",
      "\n",
      "digital_advertisement\n",
      "No    99.96\n",
      "Yes    0.04\n",
      "Name: proportion, dtype: float64\n",
      "\n",
      "through_recommendations\n",
      "No    99.92\n",
      "Yes    0.08\n",
      "Name: proportion, dtype: float64\n",
      "\n",
      "mastering_interview\n",
      "No    68.74\n",
      "Yes   31.26\n",
      "Name: proportion, dtype: float64\n",
      "\n"
     ]
    }
   ],
   "source": [
    "# select rest of the binary columns in a new dataframe\n",
    "df_bin = df[['do_not_email', 'do_not_call', 'search', 'newspaper_article', 'x_education_forums', \n",
    "           'newspaper', 'digital_advertisement', 'through_recommendations', 'mastering_interview']]\n",
    "\n",
    "# see value counts for each of the columns\n",
    "for i in df_bin.columns:\n",
    "    x = (df_bin[i].value_counts(normalize = True)) * 100\n",
    "    print(x)\n",
    "    print()"
   ]
  },
  {
   "cell_type": "code",
   "execution_count": null,
   "id": "5150b4f1-b3f5-4de3-948f-7acf3352806c",
   "metadata": {},
   "outputs": [],
   "source": [
    "## **Observations** Because of heavy data imbalance, we can drop the following columns as well\n",
    "* `do_not_call`\n",
    "* `search`\n",
    "* `newspaper_article`\n",
    "* `x_education_forums`\n",
    "* `newspaper`\n",
    "* `digital_advertisement`\n",
    "* `through_recommendations`"
   ]
  },
  {
   "cell_type": "code",
   "execution_count": 60,
   "id": "77a62760-8896-4dfe-8c90-ed82202e4b62",
   "metadata": {
    "tags": []
   },
   "outputs": [
    {
     "ename": "KeyError",
     "evalue": "\"['do_not_call', 'search', 'newspaper_article', 'x_education_forums', 'newspaper', 'digital_advertisement', 'through_recommendations', 'magazine', 'courses_updates', 'supply_chain_content_updates', 'dm_content_updates', 'cheque_payment'] not found in axis\"",
     "output_type": "error",
     "traceback": [
      "\u001b[1;31m---------------------------------------------------------------------------\u001b[0m",
      "\u001b[1;31mKeyError\u001b[0m                                  Traceback (most recent call last)",
      "Cell \u001b[1;32mIn[60], line 5\u001b[0m\n\u001b[0;32m      1\u001b[0m drop_bin \u001b[38;5;241m=\u001b[39m [\u001b[38;5;124m'\u001b[39m\u001b[38;5;124mdo_not_call\u001b[39m\u001b[38;5;124m'\u001b[39m, \u001b[38;5;124m'\u001b[39m\u001b[38;5;124msearch\u001b[39m\u001b[38;5;124m'\u001b[39m, \u001b[38;5;124m'\u001b[39m\u001b[38;5;124mnewspaper_article\u001b[39m\u001b[38;5;124m'\u001b[39m, \u001b[38;5;124m'\u001b[39m\u001b[38;5;124mx_education_forums\u001b[39m\u001b[38;5;124m'\u001b[39m, \n\u001b[0;32m      2\u001b[0m            \u001b[38;5;124m'\u001b[39m\u001b[38;5;124mnewspaper\u001b[39m\u001b[38;5;124m'\u001b[39m, \u001b[38;5;124m'\u001b[39m\u001b[38;5;124mdigital_advertisement\u001b[39m\u001b[38;5;124m'\u001b[39m, \u001b[38;5;124m'\u001b[39m\u001b[38;5;124mthrough_recommendations\u001b[39m\u001b[38;5;124m'\u001b[39m, \u001b[38;5;124m'\u001b[39m\u001b[38;5;124mmagazine\u001b[39m\u001b[38;5;124m'\u001b[39m, \u001b[38;5;124m'\u001b[39m\u001b[38;5;124mcourses_updates\u001b[39m\u001b[38;5;124m'\u001b[39m, \n\u001b[0;32m      3\u001b[0m            \u001b[38;5;124m'\u001b[39m\u001b[38;5;124msupply_chain_content_updates\u001b[39m\u001b[38;5;124m'\u001b[39m, \u001b[38;5;124m'\u001b[39m\u001b[38;5;124mdm_content_updates\u001b[39m\u001b[38;5;124m'\u001b[39m, \u001b[38;5;124m'\u001b[39m\u001b[38;5;124mcheque_payment\u001b[39m\u001b[38;5;124m'\u001b[39m]\n\u001b[1;32m----> 5\u001b[0m df\u001b[38;5;241m.\u001b[39mdrop(drop_bin, axis \u001b[38;5;241m=\u001b[39m \u001b[38;5;241m1\u001b[39m, inplace \u001b[38;5;241m=\u001b[39m \u001b[38;5;28;01mTrue\u001b[39;00m)\n",
      "File \u001b[1;32m~\\anaconda3\\Lib\\site-packages\\pandas\\core\\frame.py:5258\u001b[0m, in \u001b[0;36mDataFrame.drop\u001b[1;34m(self, labels, axis, index, columns, level, inplace, errors)\u001b[0m\n\u001b[0;32m   5110\u001b[0m \u001b[38;5;28;01mdef\u001b[39;00m \u001b[38;5;21mdrop\u001b[39m(\n\u001b[0;32m   5111\u001b[0m     \u001b[38;5;28mself\u001b[39m,\n\u001b[0;32m   5112\u001b[0m     labels: IndexLabel \u001b[38;5;241m=\u001b[39m \u001b[38;5;28;01mNone\u001b[39;00m,\n\u001b[1;32m   (...)\u001b[0m\n\u001b[0;32m   5119\u001b[0m     errors: IgnoreRaise \u001b[38;5;241m=\u001b[39m \u001b[38;5;124m\"\u001b[39m\u001b[38;5;124mraise\u001b[39m\u001b[38;5;124m\"\u001b[39m,\n\u001b[0;32m   5120\u001b[0m ) \u001b[38;5;241m-\u001b[39m\u001b[38;5;241m>\u001b[39m DataFrame \u001b[38;5;241m|\u001b[39m \u001b[38;5;28;01mNone\u001b[39;00m:\n\u001b[0;32m   5121\u001b[0m \u001b[38;5;250m    \u001b[39m\u001b[38;5;124;03m\"\"\"\u001b[39;00m\n\u001b[0;32m   5122\u001b[0m \u001b[38;5;124;03m    Drop specified labels from rows or columns.\u001b[39;00m\n\u001b[0;32m   5123\u001b[0m \n\u001b[1;32m   (...)\u001b[0m\n\u001b[0;32m   5256\u001b[0m \u001b[38;5;124;03m            weight  1.0     0.8\u001b[39;00m\n\u001b[0;32m   5257\u001b[0m \u001b[38;5;124;03m    \"\"\"\u001b[39;00m\n\u001b[1;32m-> 5258\u001b[0m     \u001b[38;5;28;01mreturn\u001b[39;00m \u001b[38;5;28msuper\u001b[39m()\u001b[38;5;241m.\u001b[39mdrop(\n\u001b[0;32m   5259\u001b[0m         labels\u001b[38;5;241m=\u001b[39mlabels,\n\u001b[0;32m   5260\u001b[0m         axis\u001b[38;5;241m=\u001b[39maxis,\n\u001b[0;32m   5261\u001b[0m         index\u001b[38;5;241m=\u001b[39mindex,\n\u001b[0;32m   5262\u001b[0m         columns\u001b[38;5;241m=\u001b[39mcolumns,\n\u001b[0;32m   5263\u001b[0m         level\u001b[38;5;241m=\u001b[39mlevel,\n\u001b[0;32m   5264\u001b[0m         inplace\u001b[38;5;241m=\u001b[39minplace,\n\u001b[0;32m   5265\u001b[0m         errors\u001b[38;5;241m=\u001b[39merrors,\n\u001b[0;32m   5266\u001b[0m     )\n",
      "File \u001b[1;32m~\\anaconda3\\Lib\\site-packages\\pandas\\core\\generic.py:4549\u001b[0m, in \u001b[0;36mNDFrame.drop\u001b[1;34m(self, labels, axis, index, columns, level, inplace, errors)\u001b[0m\n\u001b[0;32m   4547\u001b[0m \u001b[38;5;28;01mfor\u001b[39;00m axis, labels \u001b[38;5;129;01min\u001b[39;00m axes\u001b[38;5;241m.\u001b[39mitems():\n\u001b[0;32m   4548\u001b[0m     \u001b[38;5;28;01mif\u001b[39;00m labels \u001b[38;5;129;01mis\u001b[39;00m \u001b[38;5;129;01mnot\u001b[39;00m \u001b[38;5;28;01mNone\u001b[39;00m:\n\u001b[1;32m-> 4549\u001b[0m         obj \u001b[38;5;241m=\u001b[39m obj\u001b[38;5;241m.\u001b[39m_drop_axis(labels, axis, level\u001b[38;5;241m=\u001b[39mlevel, errors\u001b[38;5;241m=\u001b[39merrors)\n\u001b[0;32m   4551\u001b[0m \u001b[38;5;28;01mif\u001b[39;00m inplace:\n\u001b[0;32m   4552\u001b[0m     \u001b[38;5;28mself\u001b[39m\u001b[38;5;241m.\u001b[39m_update_inplace(obj)\n",
      "File \u001b[1;32m~\\anaconda3\\Lib\\site-packages\\pandas\\core\\generic.py:4591\u001b[0m, in \u001b[0;36mNDFrame._drop_axis\u001b[1;34m(self, labels, axis, level, errors, only_slice)\u001b[0m\n\u001b[0;32m   4589\u001b[0m         new_axis \u001b[38;5;241m=\u001b[39m axis\u001b[38;5;241m.\u001b[39mdrop(labels, level\u001b[38;5;241m=\u001b[39mlevel, errors\u001b[38;5;241m=\u001b[39merrors)\n\u001b[0;32m   4590\u001b[0m     \u001b[38;5;28;01melse\u001b[39;00m:\n\u001b[1;32m-> 4591\u001b[0m         new_axis \u001b[38;5;241m=\u001b[39m axis\u001b[38;5;241m.\u001b[39mdrop(labels, errors\u001b[38;5;241m=\u001b[39merrors)\n\u001b[0;32m   4592\u001b[0m     indexer \u001b[38;5;241m=\u001b[39m axis\u001b[38;5;241m.\u001b[39mget_indexer(new_axis)\n\u001b[0;32m   4594\u001b[0m \u001b[38;5;66;03m# Case for non-unique axis\u001b[39;00m\n\u001b[0;32m   4595\u001b[0m \u001b[38;5;28;01melse\u001b[39;00m:\n",
      "File \u001b[1;32m~\\anaconda3\\Lib\\site-packages\\pandas\\core\\indexes\\base.py:6699\u001b[0m, in \u001b[0;36mIndex.drop\u001b[1;34m(self, labels, errors)\u001b[0m\n\u001b[0;32m   6697\u001b[0m \u001b[38;5;28;01mif\u001b[39;00m mask\u001b[38;5;241m.\u001b[39many():\n\u001b[0;32m   6698\u001b[0m     \u001b[38;5;28;01mif\u001b[39;00m errors \u001b[38;5;241m!=\u001b[39m \u001b[38;5;124m\"\u001b[39m\u001b[38;5;124mignore\u001b[39m\u001b[38;5;124m\"\u001b[39m:\n\u001b[1;32m-> 6699\u001b[0m         \u001b[38;5;28;01mraise\u001b[39;00m \u001b[38;5;167;01mKeyError\u001b[39;00m(\u001b[38;5;124mf\u001b[39m\u001b[38;5;124m\"\u001b[39m\u001b[38;5;132;01m{\u001b[39;00m\u001b[38;5;28mlist\u001b[39m(labels[mask])\u001b[38;5;132;01m}\u001b[39;00m\u001b[38;5;124m not found in axis\u001b[39m\u001b[38;5;124m\"\u001b[39m)\n\u001b[0;32m   6700\u001b[0m     indexer \u001b[38;5;241m=\u001b[39m indexer[\u001b[38;5;241m~\u001b[39mmask]\n\u001b[0;32m   6701\u001b[0m \u001b[38;5;28;01mreturn\u001b[39;00m \u001b[38;5;28mself\u001b[39m\u001b[38;5;241m.\u001b[39mdelete(indexer)\n",
      "\u001b[1;31mKeyError\u001b[0m: \"['do_not_call', 'search', 'newspaper_article', 'x_education_forums', 'newspaper', 'digital_advertisement', 'through_recommendations', 'magazine', 'courses_updates', 'supply_chain_content_updates', 'dm_content_updates', 'cheque_payment'] not found in axis\""
     ]
    }
   ],
   "source": [
    "drop_bin = ['do_not_call', 'search', 'newspaper_article', 'x_education_forums', \n",
    "           'newspaper', 'digital_advertisement', 'through_recommendations', 'magazine', 'courses_updates', \n",
    "           'supply_chain_content_updates', 'dm_content_updates', 'cheque_payment']\n",
    "\n",
    "df.drop(drop_bin, axis = 1, inplace = True)"
   ]
  },
  {
   "cell_type": "code",
   "execution_count": null,
   "id": "fb6c92b0-ba8c-496b-9cab-627f35d58d3b",
   "metadata": {},
   "outputs": [],
   "source": [
    "### Handle Numerical columns"
   ]
  },
  {
   "cell_type": "code",
   "execution_count": null,
   "id": "3eecf9a6-8ca3-4979-9b66-35c4970ba330",
   "metadata": {},
   "outputs": [],
   "source": [
    "#### `lead_number` column: change datatype\n",
    "\n",
    "`lead_number` column is a unique identifier for each leads. Therefore, aggregations won't be of any relevance. We should change it to object"
   ]
  },
  {
   "cell_type": "code",
   "execution_count": 61,
   "id": "42042f2f-4203-4232-994e-e7b32215c7be",
   "metadata": {
    "tags": []
   },
   "outputs": [],
   "source": [
    "df.lead_number = df.lead_number.astype('object')"
   ]
  },
  {
   "cell_type": "code",
   "execution_count": null,
   "id": "f71a785b-3981-43ab-9680-08bcc2e1f85f",
   "metadata": {},
   "outputs": [],
   "source": [
    "#### `total_visits` column\n",
    "\n",
    "For this column, we need to handle the missing values, and can convert the datatype to integer since visits can't be decimal"
   ]
  },
  {
   "cell_type": "code",
   "execution_count": 62,
   "id": "293f5ab8-904d-4c11-b30f-80340e6c7b81",
   "metadata": {
    "tags": []
   },
   "outputs": [],
   "source": [
    "df.total_visits.fillna(df.total_visits.median(), inplace=True)\n",
    "df.total_visits = df.total_visits.astype('int')"
   ]
  },
  {
   "cell_type": "code",
   "execution_count": null,
   "id": "72a935cf-0fca-445a-aaa7-40814e51647a",
   "metadata": {},
   "outputs": [],
   "source": [
    "#### `page_views_per_visit` column\n",
    "\n",
    "Handle missing values"
   ]
  },
  {
   "cell_type": "code",
   "execution_count": 63,
   "id": "6f36b198-c10d-43e6-968f-855abba07d6c",
   "metadata": {
    "tags": []
   },
   "outputs": [],
   "source": [
    "df.page_views_per_visit.fillna(df.page_views_per_visit.median(), inplace=True)"
   ]
  },
  {
   "cell_type": "code",
   "execution_count": 64,
   "id": "911366e8-2cce-4b96-b2ba-1cc9e9ffdfb1",
   "metadata": {
    "tags": []
   },
   "outputs": [
    {
     "name": "stdout",
     "output_type": "stream",
     "text": [
      "<class 'pandas.core.frame.DataFrame'>\n",
      "RangeIndex: 9240 entries, 0 to 9239\n",
      "Data columns (total 14 columns):\n",
      " #   Column                   Non-Null Count  Dtype  \n",
      "---  ------                   --------------  -----  \n",
      " 0   lead_number              9240 non-null   object \n",
      " 1   lead_origin              9240 non-null   object \n",
      " 2   lead_source              9240 non-null   object \n",
      " 3   do_not_email             9240 non-null   object \n",
      " 4   converted                9240 non-null   int64  \n",
      " 5   total_visits             9240 non-null   int32  \n",
      " 6   time_on_website          9240 non-null   int64  \n",
      " 7   page_views_per_visit     9240 non-null   float64\n",
      " 8   country                  6779 non-null   object \n",
      " 9   specialization           9240 non-null   object \n",
      " 10  occupation               6550 non-null   object \n",
      " 11  course_selection_reason  6531 non-null   object \n",
      " 12  city                     9240 non-null   object \n",
      " 13  mastering_interview      9240 non-null   object \n",
      "dtypes: float64(1), int32(1), int64(2), object(10)\n",
      "memory usage: 974.7+ KB\n"
     ]
    }
   ],
   "source": [
    "df.info()"
   ]
  },
  {
   "cell_type": "code",
   "execution_count": null,
   "id": "77279629-c129-45f6-9876-b72b24015cd5",
   "metadata": {},
   "outputs": [],
   "source": [
    "## Exploratory Data Analysis"
   ]
  },
  {
   "cell_type": "code",
   "execution_count": 65,
   "id": "89f84512-0a9f-4c16-84bb-44806d021567",
   "metadata": {
    "tags": []
   },
   "outputs": [
    {
     "data": {
      "image/png": "[encoded data removed]",
      "text/plain": [
       "<Figure size 1400x1000 with 3 Axes>"
      ]
     },
     "metadata": {},
     "output_type": "display_data"
    }
   ],
   "source": [
    "# Set style\n",
    "plt.style.use('ggplot')\n",
    "\n",
    "# See distribution of each of these columns\n",
    "fig = plt.figure(figsize = (14, 10))\n",
    "plt.subplot(2, 2, 1)\n",
    "plt.hist(df.total_visits, bins = 20)\n",
    "plt.title('Total website visits')\n",
    "\n",
    "plt.subplot(2, 2, 2)\n",
    "plt.hist(df.time_on_website, bins = 20)\n",
    "plt.title('Time spent on website')\n",
    "\n",
    "plt.subplot(2, 2, 3)\n",
    "plt.hist(df.page_views_per_visit, bins = 20)\n",
    "plt.title('Average number of page views per visit')\n",
    "\n",
    "plt.show()"
   ]
  },
  {
   "cell_type": "code",
   "execution_count": null,
   "id": "b9c72eca-af7a-4b68-92ea-34034c60cbe4",
   "metadata": {},
   "outputs": [],
   "source": [
    "### Observations**\n",
    "- High peaks and skewed data. There might be a possibility of outliers. We will check them next"
   ]
  },
  {
   "cell_type": "code",
   "execution_count": null,
   "id": "a0c74290-7c66-447e-982f-e181100ea09b",
   "metadata": {},
   "outputs": [],
   "source": [
    "#### Heatmap"
   ]
  },
  {
   "cell_type": "code",
   "execution_count": 66,
   "id": "4a64ad07-b46d-440a-870c-dd65bf5835d3",
   "metadata": {
    "tags": []
   },
   "outputs": [
    {
     "data": {
      "image/png": "[encoded data removed]",
      "text/plain": [
       "<Figure size 1400x1200 with 2 Axes>"
      ]
     },
     "metadata": {},
     "output_type": "display_data"
    }
   ],
   "source": [
    "plt.figure(figsize = (14,12))\n",
    "sns.heatmap(df[['total_visits', 'time_on_website', 'page_views_per_visit']].corr(), cmap=\"YlGnBu\", annot = True)\n",
    "plt.show()"
   ]
  },
  {
   "cell_type": "code",
   "execution_count": null,
   "id": "26bbbb8d-8885-43f3-9cb8-133ccef238aa",
   "metadata": {},
   "outputs": [],
   "source": [
    "## Observations**: No significaqnt correlation such that columns can be dropped"
   ]
  },
  {
   "cell_type": "code",
   "execution_count": 67,
   "id": "75b15bc4-3eef-4bb1-95db-0a1de9c63cad",
   "metadata": {
    "tags": []
   },
   "outputs": [
    {
     "data": {
      "image/png": "[encoded data removed]",
      "text/plain": [
       "<Figure size 1000x1400 with 3 Axes>"
      ]
     },
     "metadata": {},
     "output_type": "display_data"
    }
   ],
   "source": [
    "plt.figure(figsize = (10, 14))\n",
    "\n",
    "plt.subplot(3,1,1)\n",
    "sns.boxplot(df.total_visits)\n",
    "\n",
    "plt.subplot(3,1,2)\n",
    "sns.boxplot(df.time_on_website)\n",
    "\n",
    "plt.subplot(3,1,3)\n",
    "sns.boxplot(df.page_views_per_visit)\n",
    "plt.show()"
   ]
  },
  {
   "cell_type": "code",
   "execution_count": null,
   "id": "4b557db4-2a30-4e9e-8c18-ce4bd6e5860d",
   "metadata": {},
   "outputs": [],
   "source": [
    "### Observations\n",
    "\n",
    "* Looking at both the box plots and the statistics, there are upper bound outliers in both `total_visits` and `page_views_per_visit` columns. We can also see that the data can be capped at 99 percentile."
   ]
  },
  {
   "cell_type": "code",
   "execution_count": null,
   "id": "782f8290-1b7a-44fa-b68b-e96bb70a0e34",
   "metadata": {},
   "outputs": [],
   "source": [
    "## Categorical columns"
   ]
  },
  {
   "cell_type": "code",
   "execution_count": null,
   "id": "10450f1b-c297-4728-abeb-6d9930e0fd5c",
   "metadata": {},
   "outputs": [],
   "source": [
    "## Lead Origin"
   ]
  },
  {
   "cell_type": "code",
   "execution_count": 68,
   "id": "a914d68c-67ad-47cb-bcad-691ba71f2b02",
   "metadata": {
    "tags": []
   },
   "outputs": [
    {
     "data": {
      "image/png": "[encoded data removed]",
      "text/plain": [
       "<Figure size 1400x800 with 1 Axes>"
      ]
     },
     "metadata": {},
     "output_type": "display_data"
    }
   ],
   "source": [
    "plt.figure(figsize = (14, 8))\n",
    "\n",
    "df.groupby('lead_origin')['lead_number'].count().sort_values(ascending = False).plot(kind= 'barh', width = 0.8, \n",
    "                                                            edgecolor = 'black', \n",
    "                                                            color = plt.cm.Paired(np.arange(len(df))))\n",
    "plt.show()"
   ]
  },
  {
   "cell_type": "code",
   "execution_count": 69,
   "id": "fb56160d-ead6-4109-840e-54c303239912",
   "metadata": {
    "tags": []
   },
   "outputs": [
    {
     "data": {
      "text/html": [
       "<div>\n",
       "<style scoped>\n",
       "    .dataframe tbody tr th:only-of-type {\n",
       "        vertical-align: middle;\n",
       "    }\n",
       "\n",
       "    .dataframe tbody tr th {\n",
       "        vertical-align: top;\n",
       "    }\n",
       "\n",
       "    .dataframe thead th {\n",
       "        text-align: right;\n",
       "    }\n",
       "</style>\n",
       "<table border=\"1\" class=\"dataframe\">\n",
       "  <thead>\n",
       "    <tr style=\"text-align: right;\">\n",
       "      <th></th>\n",
       "      <th>lead_number</th>\n",
       "      <th>lead_origin</th>\n",
       "      <th>lead_source</th>\n",
       "      <th>do_not_email</th>\n",
       "      <th>converted</th>\n",
       "      <th>total_visits</th>\n",
       "      <th>time_on_website</th>\n",
       "      <th>page_views_per_visit</th>\n",
       "      <th>country</th>\n",
       "      <th>specialization</th>\n",
       "      <th>occupation</th>\n",
       "      <th>course_selection_reason</th>\n",
       "      <th>city</th>\n",
       "      <th>mastering_interview</th>\n",
       "    </tr>\n",
       "  </thead>\n",
       "  <tbody>\n",
       "    <tr>\n",
       "      <th>0</th>\n",
       "      <td>660737</td>\n",
       "      <td>API</td>\n",
       "      <td>Olark Chat</td>\n",
       "      <td>No</td>\n",
       "      <td>0</td>\n",
       "      <td>0</td>\n",
       "      <td>0</td>\n",
       "      <td>0.00</td>\n",
       "      <td>NaN</td>\n",
       "      <td>Management Specializations</td>\n",
       "      <td>Unemployed</td>\n",
       "      <td>Better Career Prospects</td>\n",
       "      <td>Non-Maharashtra Cities</td>\n",
       "      <td>No</td>\n",
       "    </tr>\n",
       "  </tbody>\n",
       "</table>\n",
       "</div>"
      ],
      "text/plain": [
       "  lead_number lead_origin lead_source do_not_email  converted  total_visits  \\\n",
       "0      660737         API  Olark Chat           No          0             0   \n",
       "\n",
       "   time_on_website  page_views_per_visit country              specialization  \\\n",
       "0                0                  0.00     NaN  Management Specializations   \n",
       "\n",
       "   occupation  course_selection_reason                    city  \\\n",
       "0  Unemployed  Better Career Prospects  Non-Maharashtra Cities   \n",
       "\n",
       "  mastering_interview  \n",
       "0                  No  "
      ]
     },
     "execution_count": 69,
     "metadata": {},
     "output_type": "execute_result"
    }
   ],
   "source": [
    "df.head(1)"
   ]
  },
  {
   "cell_type": "code",
   "execution_count": 70,
   "id": "e50335f4-9ab5-4222-9de3-7782e7e7544a",
   "metadata": {
    "tags": []
   },
   "outputs": [
    {
     "data": {
      "image/png": "[encoded data removed]",
      "text/plain": [
       "<Figure size 1400x800 with 1 Axes>"
      ]
     },
     "metadata": {},
     "output_type": "display_data"
    }
   ],
   "source": [
    "plt.figure(figsize = (14, 8))\n",
    "\n",
    "df.groupby('lead_source')['lead_number'].count().sort_values(ascending = False).plot(kind= 'barh', width = 0.8, \n",
    "                                                            edgecolor = 'black', \n",
    "                                                            color = plt.cm.Paired(np.arange(len(df))))\n",
    "plt.show()"
   ]
  },
  {
   "cell_type": "code",
   "execution_count": 71,
   "id": "7c40a3b8-9465-425a-8d50-3395054bcdcc",
   "metadata": {
    "tags": []
   },
   "outputs": [
    {
     "data": {
      "image/png": "[encoded data removed]",
      "text/plain": [
       "<Figure size 1000x800 with 1 Axes>"
      ]
     },
     "metadata": {},
     "output_type": "display_data"
    }
   ],
   "source": [
    "plt.figure(figsize = (10, 8))\n",
    "\n",
    "df.groupby('specialization')['lead_number'].count().sort_values(ascending = False).plot(kind= 'barh', width = 0.8, \n",
    "                                                            edgecolor = 'black', \n",
    "                                                            color = plt.cm.Paired(np.arange(len(df))))\n",
    "plt.show()"
   ]
  },
  {
   "cell_type": "code",
   "execution_count": null,
   "id": "57ca76a4-68ab-4690-b021-f2dbe062219f",
   "metadata": {},
   "outputs": [],
   "source": [
    "## Most of the speciliazation taken are management"
   ]
  },
  {
   "cell_type": "code",
   "execution_count": null,
   "id": "ebad1b1d-ece1-4e43-9dd9-2db526424f17",
   "metadata": {},
   "outputs": [],
   "source": [
    "## Occupation\n"
   ]
  },
  {
   "cell_type": "code",
   "execution_count": 72,
   "id": "fbea739d-ae57-4f47-94f7-659df3b133c3",
   "metadata": {
    "tags": []
   },
   "outputs": [
    {
     "data": {
      "image/png": "[encoded data removed]",
      "text/plain": [
       "<Figure size 1400x800 with 1 Axes>"
      ]
     },
     "metadata": {},
     "output_type": "display_data"
    }
   ],
   "source": [
    "plt.figure(figsize = (14, 8))\n",
    "\n",
    "df.groupby('occupation')['lead_number'].count().sort_values(ascending = False).plot(kind= 'barh', width = 0.8, \n",
    "                                                            edgecolor = 'black', \n",
    "                                                            color = plt.cm.Paired(np.arange(len(df))))\n",
    "plt.show()"
   ]
  },
  {
   "cell_type": "code",
   "execution_count": null,
   "id": "25d18450-73ec-4c38-9b53-3c30ab2ebf93",
   "metadata": {},
   "outputs": [],
   "source": [
    "#### City"
   ]
  },
  {
   "cell_type": "code",
   "execution_count": 73,
   "id": "c0978a36-ddc1-4754-9fe8-24e611d32659",
   "metadata": {
    "tags": []
   },
   "outputs": [
    {
     "data": {
      "image/png": "[encoded data removed]",
      "text/plain": [
       "<Figure size 1400x800 with 1 Axes>"
      ]
     },
     "metadata": {},
     "output_type": "display_data"
    }
   ],
   "source": [
    "plt.figure(figsize = (14, 8))\n",
    "\n",
    "df.groupby('city')['lead_number'].count().sort_values(ascending = False).plot(kind= 'barh', width = 0.8, \n",
    "                                                            edgecolor = 'black', \n",
    "                                                            color = plt.cm.Paired(np.arange(len(df))))\n",
    "plt.show()"
   ]
  },
  {
   "cell_type": "code",
   "execution_count": null,
   "id": "9cacc2bc-093a-4f6c-b3e8-6c1dbf0ac19d",
   "metadata": {},
   "outputs": [],
   "source": [
    "### Mumbai in particular and Maharashtra in general dominates the lead. This is likely due to the fact that the courses are based in Mumbai"
   ]
  },
  {
   "cell_type": "code",
   "execution_count": 74,
   "id": "acc1447b-0310-4b0c-8f2d-bdbbf8eb6caf",
   "metadata": {
    "tags": []
   },
   "outputs": [
    {
     "data": {
      "image/png": "[encoded data removed]",
      "text/plain": [
       "<Figure size 1400x800 with 1 Axes>"
      ]
     },
     "metadata": {},
     "output_type": "display_data"
    }
   ],
   "source": [
    "plt.figure(figsize = (14, 8))\n",
    "\n",
    "df.groupby('do_not_email')['lead_number'].count().sort_values(ascending = False).plot(kind= 'barh', width = 0.8, \n",
    "                                                            edgecolor = 'black', \n",
    "                                                            color = plt.cm.Paired(np.arange(len(df))))\n",
    "plt.show()"
   ]
  },
  {
   "cell_type": "code",
   "execution_count": null,
   "id": "5e2f1c39-ba68-4896-adfa-c203bcb0ec8d",
   "metadata": {},
   "outputs": [],
   "source": [
    "## ## Data Preparation Converting Binary (Yes/No) to 0/1"
   ]
  },
  {
   "cell_type": "code",
   "execution_count": 75,
   "id": "786d5ce4-f1f7-4deb-8a51-4091cfeb17b1",
   "metadata": {
    "tags": []
   },
   "outputs": [
    {
     "name": "stdout",
     "output_type": "stream",
     "text": [
      "lead_number = 9240\n",
      "lead_origin = 3\n",
      "lead_source = 6\n",
      "do_not_email = 2\n",
      "country = 38\n",
      "specialization = 3\n",
      "occupation = 3\n",
      "course_selection_reason = 3\n",
      "city = 3\n",
      "mastering_interview = 2\n"
     ]
    }
   ],
   "source": [
    "# determine unique values\n",
    "for k, v in df.select_dtypes(include='object').nunique().to_dict().items():\n",
    "    print('{} = {}'.format(k,v))"
   ]
  },
  {
   "cell_type": "code",
   "execution_count": null,
   "id": "af4baa0e-b0a8-4bd7-b749-e2f207d29a95",
   "metadata": {},
   "outputs": [],
   "source": [
    "## We have two binary columns: `do_not_email`, `mastering_interview`"
   ]
  },
  {
   "cell_type": "code",
   "execution_count": 76,
   "id": "f1f9b200-00f3-4166-ac64-ab85662b7100",
   "metadata": {
    "tags": []
   },
   "outputs": [
    {
     "data": {
      "text/html": [
       "<div>\n",
       "<style scoped>\n",
       "    .dataframe tbody tr th:only-of-type {\n",
       "        vertical-align: middle;\n",
       "    }\n",
       "\n",
       "    .dataframe tbody tr th {\n",
       "        vertical-align: top;\n",
       "    }\n",
       "\n",
       "    .dataframe thead th {\n",
       "        text-align: right;\n",
       "    }\n",
       "</style>\n",
       "<table border=\"1\" class=\"dataframe\">\n",
       "  <thead>\n",
       "    <tr style=\"text-align: right;\">\n",
       "      <th></th>\n",
       "      <th>lead_number</th>\n",
       "      <th>lead_origin</th>\n",
       "      <th>lead_source</th>\n",
       "      <th>do_not_email</th>\n",
       "      <th>converted</th>\n",
       "      <th>total_visits</th>\n",
       "      <th>time_on_website</th>\n",
       "      <th>page_views_per_visit</th>\n",
       "      <th>country</th>\n",
       "      <th>specialization</th>\n",
       "      <th>occupation</th>\n",
       "      <th>course_selection_reason</th>\n",
       "      <th>city</th>\n",
       "      <th>mastering_interview</th>\n",
       "    </tr>\n",
       "  </thead>\n",
       "  <tbody>\n",
       "    <tr>\n",
       "      <th>0</th>\n",
       "      <td>660737</td>\n",
       "      <td>API</td>\n",
       "      <td>Olark Chat</td>\n",
       "      <td>0</td>\n",
       "      <td>0</td>\n",
       "      <td>0</td>\n",
       "      <td>0</td>\n",
       "      <td>0.00</td>\n",
       "      <td>NaN</td>\n",
       "      <td>Management Specializations</td>\n",
       "      <td>Unemployed</td>\n",
       "      <td>Better Career Prospects</td>\n",
       "      <td>Non-Maharashtra Cities</td>\n",
       "      <td>0</td>\n",
       "    </tr>\n",
       "    <tr>\n",
       "      <th>1</th>\n",
       "      <td>660728</td>\n",
       "      <td>API</td>\n",
       "      <td>Organic Search</td>\n",
       "      <td>0</td>\n",
       "      <td>0</td>\n",
       "      <td>5</td>\n",
       "      <td>674</td>\n",
       "      <td>2.50</td>\n",
       "      <td>India</td>\n",
       "      <td>Management Specializations</td>\n",
       "      <td>Unemployed</td>\n",
       "      <td>Better Career Prospects</td>\n",
       "      <td>Mumbai</td>\n",
       "      <td>0</td>\n",
       "    </tr>\n",
       "    <tr>\n",
       "      <th>2</th>\n",
       "      <td>660727</td>\n",
       "      <td>Landing Page Submission</td>\n",
       "      <td>Direct Traffic</td>\n",
       "      <td>0</td>\n",
       "      <td>1</td>\n",
       "      <td>2</td>\n",
       "      <td>1532</td>\n",
       "      <td>2.00</td>\n",
       "      <td>India</td>\n",
       "      <td>Business Specializations</td>\n",
       "      <td>Student and Others</td>\n",
       "      <td>Better Career Prospects</td>\n",
       "      <td>Mumbai</td>\n",
       "      <td>1</td>\n",
       "    </tr>\n",
       "    <tr>\n",
       "      <th>3</th>\n",
       "      <td>660719</td>\n",
       "      <td>Landing Page Submission</td>\n",
       "      <td>Direct Traffic</td>\n",
       "      <td>0</td>\n",
       "      <td>0</td>\n",
       "      <td>1</td>\n",
       "      <td>305</td>\n",
       "      <td>1.00</td>\n",
       "      <td>India</td>\n",
       "      <td>Industry Specializations</td>\n",
       "      <td>Unemployed</td>\n",
       "      <td>Better Career Prospects</td>\n",
       "      <td>Mumbai</td>\n",
       "      <td>0</td>\n",
       "    </tr>\n",
       "    <tr>\n",
       "      <th>4</th>\n",
       "      <td>660681</td>\n",
       "      <td>Landing Page Submission</td>\n",
       "      <td>Google</td>\n",
       "      <td>0</td>\n",
       "      <td>1</td>\n",
       "      <td>2</td>\n",
       "      <td>1428</td>\n",
       "      <td>1.00</td>\n",
       "      <td>India</td>\n",
       "      <td>Management Specializations</td>\n",
       "      <td>Unemployed</td>\n",
       "      <td>Better Career Prospects</td>\n",
       "      <td>Mumbai</td>\n",
       "      <td>0</td>\n",
       "    </tr>\n",
       "  </tbody>\n",
       "</table>\n",
       "</div>"
      ],
      "text/plain": [
       "  lead_number              lead_origin     lead_source  do_not_email  \\\n",
       "0      660737                      API      Olark Chat             0   \n",
       "1      660728                      API  Organic Search             0   \n",
       "2      660727  Landing Page Submission  Direct Traffic             0   \n",
       "3      660719  Landing Page Submission  Direct Traffic             0   \n",
       "4      660681  Landing Page Submission          Google             0   \n",
       "\n",
       "   converted  total_visits  time_on_website  page_views_per_visit country  \\\n",
       "0          0             0                0                  0.00     NaN   \n",
       "1          0             5              674                  2.50   India   \n",
       "2          1             2             1532                  2.00   India   \n",
       "3          0             1              305                  1.00   India   \n",
       "4          1             2             1428                  1.00   India   \n",
       "\n",
       "               specialization          occupation  course_selection_reason  \\\n",
       "0  Management Specializations          Unemployed  Better Career Prospects   \n",
       "1  Management Specializations          Unemployed  Better Career Prospects   \n",
       "2    Business Specializations  Student and Others  Better Career Prospects   \n",
       "3    Industry Specializations          Unemployed  Better Career Prospects   \n",
       "4  Management Specializations          Unemployed  Better Career Prospects   \n",
       "\n",
       "                     city  mastering_interview  \n",
       "0  Non-Maharashtra Cities                    0  \n",
       "1                  Mumbai                    0  \n",
       "2                  Mumbai                    1  \n",
       "3                  Mumbai                    0  \n",
       "4                  Mumbai                    0  "
      ]
     },
     "execution_count": 76,
     "metadata": {},
     "output_type": "execute_result"
    }
   ],
   "source": [
    "binlist = ['do_not_email', 'mastering_interview']\n",
    "\n",
    "# Defining the map function\n",
    "def binary_map(x):\n",
    "    return x.map({'Yes': 1, \"No\": 0})\n",
    "\n",
    "# Applying the function to the housing list\n",
    "df[binlist] = df[binlist].apply(binary_map)\n",
    "\n",
    "# check the operation was success\n",
    "df.head()"
   ]
  },
  {
   "cell_type": "code",
   "execution_count": null,
   "id": "fe5ae132-4e1f-4914-8bd3-55cdbf28f16b",
   "metadata": {},
   "outputs": [],
   "source": [
    "## Creating dummy variable for categorical columns\n",
    "\n",
    "## Categorical columns are: `lead_origin`, `lead_source`, `specialization`, `occupation`, `city`"
   ]
  },
  {
   "cell_type": "code",
   "execution_count": 77,
   "id": "7cbb74b2-9063-4679-8d26-b0ce19f7dc48",
   "metadata": {
    "tags": []
   },
   "outputs": [],
   "source": [
    "# Creating a dummy variable for some of the categorical variables and dropping the first one.\n",
    "dummy1 = pd.get_dummies(df[['lead_origin', 'lead_source', 'specialization', 'occupation', 'city']], drop_first = True)\n",
    "\n",
    "# Adding the results to the master dataframe\n",
    "df = pd.concat([df, dummy1], axis=1)"
   ]
  },
  {
   "cell_type": "code",
   "execution_count": 78,
   "id": "d23be9bd-9e9d-48fd-8403-83baf78af31e",
   "metadata": {
    "tags": []
   },
   "outputs": [
    {
     "data": {
      "text/html": [
       "<div>\n",
       "<style scoped>\n",
       "    .dataframe tbody tr th:only-of-type {\n",
       "        vertical-align: middle;\n",
       "    }\n",
       "\n",
       "    .dataframe tbody tr th {\n",
       "        vertical-align: top;\n",
       "    }\n",
       "\n",
       "    .dataframe thead th {\n",
       "        text-align: right;\n",
       "    }\n",
       "</style>\n",
       "<table border=\"1\" class=\"dataframe\">\n",
       "  <thead>\n",
       "    <tr style=\"text-align: right;\">\n",
       "      <th></th>\n",
       "      <th>lead_number</th>\n",
       "      <th>do_not_email</th>\n",
       "      <th>converted</th>\n",
       "      <th>total_visits</th>\n",
       "      <th>time_on_website</th>\n",
       "      <th>page_views_per_visit</th>\n",
       "      <th>country</th>\n",
       "      <th>course_selection_reason</th>\n",
       "      <th>mastering_interview</th>\n",
       "      <th>lead_origin_Landing Page Submission</th>\n",
       "      <th>lead_origin_Lead Add Form and Others</th>\n",
       "      <th>lead_source_Google</th>\n",
       "      <th>lead_source_Olark Chat</th>\n",
       "      <th>lead_source_Organic Search</th>\n",
       "      <th>lead_source_Other Social Sites</th>\n",
       "      <th>lead_source_Reference</th>\n",
       "      <th>specialization_Industry Specializations</th>\n",
       "      <th>specialization_Management Specializations</th>\n",
       "      <th>occupation_Unemployed</th>\n",
       "      <th>occupation_Working Professional</th>\n",
       "      <th>city_Non-Maharashtra Cities</th>\n",
       "      <th>city_Non-Mumbai Maharashtra Cities</th>\n",
       "    </tr>\n",
       "  </thead>\n",
       "  <tbody>\n",
       "    <tr>\n",
       "      <th>0</th>\n",
       "      <td>660737</td>\n",
       "      <td>0</td>\n",
       "      <td>0</td>\n",
       "      <td>0</td>\n",
       "      <td>0</td>\n",
       "      <td>0.00</td>\n",
       "      <td>NaN</td>\n",
       "      <td>Better Career Prospects</td>\n",
       "      <td>0</td>\n",
       "      <td>False</td>\n",
       "      <td>False</td>\n",
       "      <td>False</td>\n",
       "      <td>True</td>\n",
       "      <td>False</td>\n",
       "      <td>False</td>\n",
       "      <td>False</td>\n",
       "      <td>False</td>\n",
       "      <td>True</td>\n",
       "      <td>True</td>\n",
       "      <td>False</td>\n",
       "      <td>True</td>\n",
       "      <td>False</td>\n",
       "    </tr>\n",
       "    <tr>\n",
       "      <th>1</th>\n",
       "      <td>660728</td>\n",
       "      <td>0</td>\n",
       "      <td>0</td>\n",
       "      <td>5</td>\n",
       "      <td>674</td>\n",
       "      <td>2.50</td>\n",
       "      <td>India</td>\n",
       "      <td>Better Career Prospects</td>\n",
       "      <td>0</td>\n",
       "      <td>False</td>\n",
       "      <td>False</td>\n",
       "      <td>False</td>\n",
       "      <td>False</td>\n",
       "      <td>True</td>\n",
       "      <td>False</td>\n",
       "      <td>False</td>\n",
       "      <td>False</td>\n",
       "      <td>True</td>\n",
       "      <td>True</td>\n",
       "      <td>False</td>\n",
       "      <td>False</td>\n",
       "      <td>False</td>\n",
       "    </tr>\n",
       "    <tr>\n",
       "      <th>2</th>\n",
       "      <td>660727</td>\n",
       "      <td>0</td>\n",
       "      <td>1</td>\n",
       "      <td>2</td>\n",
       "      <td>1532</td>\n",
       "      <td>2.00</td>\n",
       "      <td>India</td>\n",
       "      <td>Better Career Prospects</td>\n",
       "      <td>1</td>\n",
       "      <td>True</td>\n",
       "      <td>False</td>\n",
       "      <td>False</td>\n",
       "      <td>False</td>\n",
       "      <td>False</td>\n",
       "      <td>False</td>\n",
       "      <td>False</td>\n",
       "      <td>False</td>\n",
       "      <td>False</td>\n",
       "      <td>False</td>\n",
       "      <td>False</td>\n",
       "      <td>False</td>\n",
       "      <td>False</td>\n",
       "    </tr>\n",
       "    <tr>\n",
       "      <th>3</th>\n",
       "      <td>660719</td>\n",
       "      <td>0</td>\n",
       "      <td>0</td>\n",
       "      <td>1</td>\n",
       "      <td>305</td>\n",
       "      <td>1.00</td>\n",
       "      <td>India</td>\n",
       "      <td>Better Career Prospects</td>\n",
       "      <td>0</td>\n",
       "      <td>True</td>\n",
       "      <td>False</td>\n",
       "      <td>False</td>\n",
       "      <td>False</td>\n",
       "      <td>False</td>\n",
       "      <td>False</td>\n",
       "      <td>False</td>\n",
       "      <td>True</td>\n",
       "      <td>False</td>\n",
       "      <td>True</td>\n",
       "      <td>False</td>\n",
       "      <td>False</td>\n",
       "      <td>False</td>\n",
       "    </tr>\n",
       "    <tr>\n",
       "      <th>4</th>\n",
       "      <td>660681</td>\n",
       "      <td>0</td>\n",
       "      <td>1</td>\n",
       "      <td>2</td>\n",
       "      <td>1428</td>\n",
       "      <td>1.00</td>\n",
       "      <td>India</td>\n",
       "      <td>Better Career Prospects</td>\n",
       "      <td>0</td>\n",
       "      <td>True</td>\n",
       "      <td>False</td>\n",
       "      <td>True</td>\n",
       "      <td>False</td>\n",
       "      <td>False</td>\n",
       "      <td>False</td>\n",
       "      <td>False</td>\n",
       "      <td>False</td>\n",
       "      <td>True</td>\n",
       "      <td>True</td>\n",
       "      <td>False</td>\n",
       "      <td>False</td>\n",
       "      <td>False</td>\n",
       "    </tr>\n",
       "  </tbody>\n",
       "</table>\n",
       "</div>"
      ],
      "text/plain": [
       "  lead_number  do_not_email  converted  total_visits  time_on_website  \\\n",
       "0      660737             0          0             0                0   \n",
       "1      660728             0          0             5              674   \n",
       "2      660727             0          1             2             1532   \n",
       "3      660719             0          0             1              305   \n",
       "4      660681             0          1             2             1428   \n",
       "\n",
       "   page_views_per_visit country  course_selection_reason  mastering_interview  \\\n",
       "0                  0.00     NaN  Better Career Prospects                    0   \n",
       "1                  2.50   India  Better Career Prospects                    0   \n",
       "2                  2.00   India  Better Career Prospects                    1   \n",
       "3                  1.00   India  Better Career Prospects                    0   \n",
       "4                  1.00   India  Better Career Prospects                    0   \n",
       "\n",
       "   lead_origin_Landing Page Submission  lead_origin_Lead Add Form and Others  \\\n",
       "0                                False                                 False   \n",
       "1                                False                                 False   \n",
       "2                                 True                                 False   \n",
       "3                                 True                                 False   \n",
       "4                                 True                                 False   \n",
       "\n",
       "   lead_source_Google  lead_source_Olark Chat  lead_source_Organic Search  \\\n",
       "0               False                    True                       False   \n",
       "1               False                   False                        True   \n",
       "2               False                   False                       False   \n",
       "3               False                   False                       False   \n",
       "4                True                   False                       False   \n",
       "\n",
       "   lead_source_Other Social Sites  lead_source_Reference  \\\n",
       "0                           False                  False   \n",
       "1                           False                  False   \n",
       "2                           False                  False   \n",
       "3                           False                  False   \n",
       "4                           False                  False   \n",
       "\n",
       "   specialization_Industry Specializations  \\\n",
       "0                                    False   \n",
       "1                                    False   \n",
       "2                                    False   \n",
       "3                                     True   \n",
       "4                                    False   \n",
       "\n",
       "   specialization_Management Specializations  occupation_Unemployed  \\\n",
       "0                                       True                   True   \n",
       "1                                       True                   True   \n",
       "2                                      False                  False   \n",
       "3                                      False                   True   \n",
       "4                                       True                   True   \n",
       "\n",
       "   occupation_Working Professional  city_Non-Maharashtra Cities  \\\n",
       "0                            False                         True   \n",
       "1                            False                        False   \n",
       "2                            False                        False   \n",
       "3                            False                        False   \n",
       "4                            False                        False   \n",
       "\n",
       "   city_Non-Mumbai Maharashtra Cities  \n",
       "0                               False  \n",
       "1                               False  \n",
       "2                               False  \n",
       "3                               False  \n",
       "4                               False  "
      ]
     },
     "execution_count": 78,
     "metadata": {},
     "output_type": "execute_result"
    }
   ],
   "source": [
    "# Dropping the columns for which dummies have been created\n",
    "df.drop(['lead_origin', 'lead_source', 'specialization', 'occupation', 'city'], axis = 1, inplace = True)\n",
    "\n",
    "df.head()"
   ]
  },
  {
   "cell_type": "code",
   "execution_count": null,
   "id": "00bb3d9e-30dd-4999-a16d-4dbb533884b3",
   "metadata": {},
   "outputs": [],
   "source": [
    "## Outliers Treatment"
   ]
  },
  {
   "cell_type": "code",
   "execution_count": 79,
   "id": "4ee9e525-dada-490c-84a3-67fc4c30cc50",
   "metadata": {
    "tags": []
   },
   "outputs": [
    {
     "data": {
      "text/html": [
       "<div>\n",
       "<style scoped>\n",
       "    .dataframe tbody tr th:only-of-type {\n",
       "        vertical-align: middle;\n",
       "    }\n",
       "\n",
       "    .dataframe tbody tr th {\n",
       "        vertical-align: top;\n",
       "    }\n",
       "\n",
       "    .dataframe thead th {\n",
       "        text-align: right;\n",
       "    }\n",
       "</style>\n",
       "<table border=\"1\" class=\"dataframe\">\n",
       "  <thead>\n",
       "    <tr style=\"text-align: right;\">\n",
       "      <th></th>\n",
       "      <th>total_visits</th>\n",
       "      <th>time_on_website</th>\n",
       "      <th>page_views_per_visit</th>\n",
       "    </tr>\n",
       "  </thead>\n",
       "  <tbody>\n",
       "    <tr>\n",
       "      <th>count</th>\n",
       "      <td>9240.00</td>\n",
       "      <td>9240.00</td>\n",
       "      <td>9240.00</td>\n",
       "    </tr>\n",
       "    <tr>\n",
       "      <th>mean</th>\n",
       "      <td>3.44</td>\n",
       "      <td>487.70</td>\n",
       "      <td>2.36</td>\n",
       "    </tr>\n",
       "    <tr>\n",
       "      <th>std</th>\n",
       "      <td>4.82</td>\n",
       "      <td>548.02</td>\n",
       "      <td>2.15</td>\n",
       "    </tr>\n",
       "    <tr>\n",
       "      <th>min</th>\n",
       "      <td>0.00</td>\n",
       "      <td>0.00</td>\n",
       "      <td>0.00</td>\n",
       "    </tr>\n",
       "    <tr>\n",
       "      <th>25%</th>\n",
       "      <td>1.00</td>\n",
       "      <td>12.00</td>\n",
       "      <td>1.00</td>\n",
       "    </tr>\n",
       "    <tr>\n",
       "      <th>50%</th>\n",
       "      <td>3.00</td>\n",
       "      <td>248.00</td>\n",
       "      <td>2.00</td>\n",
       "    </tr>\n",
       "    <tr>\n",
       "      <th>75%</th>\n",
       "      <td>5.00</td>\n",
       "      <td>936.00</td>\n",
       "      <td>3.00</td>\n",
       "    </tr>\n",
       "    <tr>\n",
       "      <th>90%</th>\n",
       "      <td>7.00</td>\n",
       "      <td>1380.00</td>\n",
       "      <td>5.00</td>\n",
       "    </tr>\n",
       "    <tr>\n",
       "      <th>95%</th>\n",
       "      <td>10.00</td>\n",
       "      <td>1562.00</td>\n",
       "      <td>6.00</td>\n",
       "    </tr>\n",
       "    <tr>\n",
       "      <th>99%</th>\n",
       "      <td>17.00</td>\n",
       "      <td>1840.61</td>\n",
       "      <td>9.00</td>\n",
       "    </tr>\n",
       "    <tr>\n",
       "      <th>max</th>\n",
       "      <td>251.00</td>\n",
       "      <td>2272.00</td>\n",
       "      <td>55.00</td>\n",
       "    </tr>\n",
       "  </tbody>\n",
       "</table>\n",
       "</div>"
      ],
      "text/plain": [
       "       total_visits  time_on_website  page_views_per_visit\n",
       "count       9240.00          9240.00               9240.00\n",
       "mean           3.44           487.70                  2.36\n",
       "std            4.82           548.02                  2.15\n",
       "min            0.00             0.00                  0.00\n",
       "25%            1.00            12.00                  1.00\n",
       "50%            3.00           248.00                  2.00\n",
       "75%            5.00           936.00                  3.00\n",
       "90%            7.00          1380.00                  5.00\n",
       "95%           10.00          1562.00                  6.00\n",
       "99%           17.00          1840.61                  9.00\n",
       "max          251.00          2272.00                 55.00"
      ]
     },
     "execution_count": 79,
     "metadata": {},
     "output_type": "execute_result"
    }
   ],
   "source": [
    "num_cols = df[['total_visits', 'time_on_website', 'page_views_per_visit']]\n",
    "\n",
    "# Checking outliers at 25%, 50%, 75%, 90%, 95% and 99%\n",
    "num_cols.describe(percentiles=[.25, .5, .75, .90, .95, .99])"
   ]
  },
  {
   "cell_type": "code",
   "execution_count": 80,
   "id": "2fe208ca-b439-4689-b563-4b514249a4d3",
   "metadata": {
    "tags": []
   },
   "outputs": [],
   "source": [
    "# capping at 99 percentile\n",
    "df.total_visits.loc[df.total_visits >= df.total_visits.quantile(0.99)] = df.total_visits.quantile(0.99)\n",
    "df.page_views_per_visit.loc[df.page_views_per_visit >= \n",
    "                            df.page_views_per_visit.quantile(0.99)] = df.page_views_per_visit.quantile(0.99)"
   ]
  },
  {
   "cell_type": "code",
   "execution_count": 81,
   "id": "551525f4-509b-47d6-a241-3d549ed8d19a",
   "metadata": {
    "tags": []
   },
   "outputs": [
    {
     "data": {
      "image/png": "[encoded data removed]",
      "text/plain": [
       "<Figure size 1000x1400 with 2 Axes>"
      ]
     },
     "metadata": {},
     "output_type": "display_data"
    }
   ],
   "source": [
    "plt.figure(figsize = (10, 14))\n",
    "\n",
    "plt.subplot(2,1,1)\n",
    "sns.boxplot(df.total_visits)\n",
    "\n",
    "plt.subplot(2,1,2)\n",
    "sns.boxplot(df.page_views_per_visit)\n",
    "plt.show()"
   ]
  },
  {
   "cell_type": "code",
   "execution_count": null,
   "id": "8fe27f42-90ca-4cb6-a9c7-0816fa515377",
   "metadata": {},
   "outputs": [],
   "source": [
    "## As we can see, we were able to significantly reduce the number of outliers by capping"
   ]
  },
  {
   "cell_type": "code",
   "execution_count": null,
   "id": "b0d0dcaf-4a8e-445c-85d5-196d984721cb",
   "metadata": {},
   "outputs": [],
   "source": [
    "##  Test-Train Split"
   ]
  },
  {
   "cell_type": "code",
   "execution_count": 82,
   "id": "df77c916-db2b-42f6-8efc-30ede1bed363",
   "metadata": {
    "tags": []
   },
   "outputs": [
    {
     "data": {
      "text/html": [
       "<div>\n",
       "<style scoped>\n",
       "    .dataframe tbody tr th:only-of-type {\n",
       "        vertical-align: middle;\n",
       "    }\n",
       "\n",
       "    .dataframe tbody tr th {\n",
       "        vertical-align: top;\n",
       "    }\n",
       "\n",
       "    .dataframe thead th {\n",
       "        text-align: right;\n",
       "    }\n",
       "</style>\n",
       "<table border=\"1\" class=\"dataframe\">\n",
       "  <thead>\n",
       "    <tr style=\"text-align: right;\">\n",
       "      <th></th>\n",
       "      <th>do_not_email</th>\n",
       "      <th>total_visits</th>\n",
       "      <th>time_on_website</th>\n",
       "      <th>page_views_per_visit</th>\n",
       "      <th>country</th>\n",
       "      <th>course_selection_reason</th>\n",
       "      <th>mastering_interview</th>\n",
       "      <th>lead_origin_Landing Page Submission</th>\n",
       "      <th>lead_origin_Lead Add Form and Others</th>\n",
       "      <th>lead_source_Google</th>\n",
       "      <th>lead_source_Olark Chat</th>\n",
       "      <th>lead_source_Organic Search</th>\n",
       "      <th>lead_source_Other Social Sites</th>\n",
       "      <th>lead_source_Reference</th>\n",
       "      <th>specialization_Industry Specializations</th>\n",
       "      <th>specialization_Management Specializations</th>\n",
       "      <th>occupation_Unemployed</th>\n",
       "      <th>occupation_Working Professional</th>\n",
       "      <th>city_Non-Maharashtra Cities</th>\n",
       "      <th>city_Non-Mumbai Maharashtra Cities</th>\n",
       "    </tr>\n",
       "  </thead>\n",
       "  <tbody>\n",
       "    <tr>\n",
       "      <th>0</th>\n",
       "      <td>0</td>\n",
       "      <td>0</td>\n",
       "      <td>0</td>\n",
       "      <td>0.00</td>\n",
       "      <td>NaN</td>\n",
       "      <td>Better Career Prospects</td>\n",
       "      <td>0</td>\n",
       "      <td>False</td>\n",
       "      <td>False</td>\n",
       "      <td>False</td>\n",
       "      <td>True</td>\n",
       "      <td>False</td>\n",
       "      <td>False</td>\n",
       "      <td>False</td>\n",
       "      <td>False</td>\n",
       "      <td>True</td>\n",
       "      <td>True</td>\n",
       "      <td>False</td>\n",
       "      <td>True</td>\n",
       "      <td>False</td>\n",
       "    </tr>\n",
       "  </tbody>\n",
       "</table>\n",
       "</div>"
      ],
      "text/plain": [
       "   do_not_email  total_visits  time_on_website  page_views_per_visit country  \\\n",
       "0             0             0                0                  0.00     NaN   \n",
       "\n",
       "   course_selection_reason  mastering_interview  \\\n",
       "0  Better Career Prospects                    0   \n",
       "\n",
       "   lead_origin_Landing Page Submission  lead_origin_Lead Add Form and Others  \\\n",
       "0                                False                                 False   \n",
       "\n",
       "   lead_source_Google  lead_source_Olark Chat  lead_source_Organic Search  \\\n",
       "0               False                    True                       False   \n",
       "\n",
       "   lead_source_Other Social Sites  lead_source_Reference  \\\n",
       "0                           False                  False   \n",
       "\n",
       "   specialization_Industry Specializations  \\\n",
       "0                                    False   \n",
       "\n",
       "   specialization_Management Specializations  occupation_Unemployed  \\\n",
       "0                                       True                   True   \n",
       "\n",
       "   occupation_Working Professional  city_Non-Maharashtra Cities  \\\n",
       "0                            False                         True   \n",
       "\n",
       "   city_Non-Mumbai Maharashtra Cities  \n",
       "0                               False  "
      ]
     },
     "execution_count": 82,
     "metadata": {},
     "output_type": "execute_result"
    }
   ],
   "source": [
    "# Putting feature variable to X\n",
    "X = df.drop(['lead_number', 'converted'], axis=1)\n",
    "\n",
    "X.head(1)"
   ]
  },
  {
   "cell_type": "code",
   "execution_count": 83,
   "id": "d5b752da-038f-4956-a867-2b77442e488a",
   "metadata": {
    "tags": []
   },
   "outputs": [
    {
     "data": {
      "text/plain": [
       "0    0\n",
       "Name: converted, dtype: int64"
      ]
     },
     "execution_count": 83,
     "metadata": {},
     "output_type": "execute_result"
    }
   ],
   "source": [
    "# Putting response variable to y\n",
    "y = df['converted']\n",
    "\n",
    "y.head(1)"
   ]
  },
  {
   "cell_type": "code",
   "execution_count": 84,
   "id": "182bf11f-c388-48b4-bee9-f785f315d5b8",
   "metadata": {
    "tags": []
   },
   "outputs": [],
   "source": [
    "# Splitting the data into train and test\n",
    "X_train, X_test, y_train, y_test = train_test_split(X, y, train_size=0.7, test_size=0.3, random_state=100)"
   ]
  },
  {
   "cell_type": "code",
   "execution_count": 85,
   "id": "517c0aa6-8f6a-43ab-8950-b46e9313b217",
   "metadata": {
    "tags": []
   },
   "outputs": [],
   "source": [
    "### Feature Scaling"
   ]
  },
  {
   "cell_type": "code",
   "execution_count": 91,
   "id": "00e65609-94a4-4274-87ac-91cef936d727",
   "metadata": {
    "tags": []
   },
   "outputs": [
    {
     "data": {
      "text/html": [
       "<div>\n",
       "<style scoped>\n",
       "    .dataframe tbody tr th:only-of-type {\n",
       "        vertical-align: middle;\n",
       "    }\n",
       "\n",
       "    .dataframe tbody tr th {\n",
       "        vertical-align: top;\n",
       "    }\n",
       "\n",
       "    .dataframe thead th {\n",
       "        text-align: right;\n",
       "    }\n",
       "</style>\n",
       "<table border=\"1\" class=\"dataframe\">\n",
       "  <thead>\n",
       "    <tr style=\"text-align: right;\">\n",
       "      <th></th>\n",
       "      <th>do_not_email</th>\n",
       "      <th>total_visits</th>\n",
       "      <th>time_on_website</th>\n",
       "      <th>page_views_per_visit</th>\n",
       "      <th>country</th>\n",
       "      <th>course_selection_reason</th>\n",
       "      <th>mastering_interview</th>\n",
       "      <th>lead_origin_Landing Page Submission</th>\n",
       "      <th>lead_origin_Lead Add Form and Others</th>\n",
       "      <th>lead_source_Google</th>\n",
       "      <th>lead_source_Olark Chat</th>\n",
       "      <th>lead_source_Organic Search</th>\n",
       "      <th>lead_source_Other Social Sites</th>\n",
       "      <th>lead_source_Reference</th>\n",
       "      <th>specialization_Industry Specializations</th>\n",
       "      <th>specialization_Management Specializations</th>\n",
       "      <th>occupation_Unemployed</th>\n",
       "      <th>occupation_Working Professional</th>\n",
       "      <th>city_Non-Maharashtra Cities</th>\n",
       "      <th>city_Non-Mumbai Maharashtra Cities</th>\n",
       "    </tr>\n",
       "  </thead>\n",
       "  <tbody>\n",
       "    <tr>\n",
       "      <th>1871</th>\n",
       "      <td>0</td>\n",
       "      <td>-1.02</td>\n",
       "      <td>-0.89</td>\n",
       "      <td>-1.18</td>\n",
       "      <td>NaN</td>\n",
       "      <td>Better Career Prospects</td>\n",
       "      <td>0</td>\n",
       "      <td>False</td>\n",
       "      <td>False</td>\n",
       "      <td>False</td>\n",
       "      <td>True</td>\n",
       "      <td>False</td>\n",
       "      <td>False</td>\n",
       "      <td>False</td>\n",
       "      <td>False</td>\n",
       "      <td>True</td>\n",
       "      <td>True</td>\n",
       "      <td>False</td>\n",
       "      <td>False</td>\n",
       "      <td>False</td>\n",
       "    </tr>\n",
       "    <tr>\n",
       "      <th>6795</th>\n",
       "      <td>0</td>\n",
       "      <td>0.21</td>\n",
       "      <td>0.01</td>\n",
       "      <td>-0.50</td>\n",
       "      <td>India</td>\n",
       "      <td>Better Career Prospects</td>\n",
       "      <td>1</td>\n",
       "      <td>True</td>\n",
       "      <td>False</td>\n",
       "      <td>False</td>\n",
       "      <td>False</td>\n",
       "      <td>False</td>\n",
       "      <td>False</td>\n",
       "      <td>False</td>\n",
       "      <td>True</td>\n",
       "      <td>False</td>\n",
       "      <td>True</td>\n",
       "      <td>False</td>\n",
       "      <td>True</td>\n",
       "      <td>False</td>\n",
       "    </tr>\n",
       "    <tr>\n",
       "      <th>3516</th>\n",
       "      <td>0</td>\n",
       "      <td>0.51</td>\n",
       "      <td>-0.69</td>\n",
       "      <td>0.09</td>\n",
       "      <td>NaN</td>\n",
       "      <td>Better Career Prospects</td>\n",
       "      <td>0</td>\n",
       "      <td>False</td>\n",
       "      <td>False</td>\n",
       "      <td>False</td>\n",
       "      <td>True</td>\n",
       "      <td>False</td>\n",
       "      <td>False</td>\n",
       "      <td>False</td>\n",
       "      <td>False</td>\n",
       "      <td>True</td>\n",
       "      <td>True</td>\n",
       "      <td>False</td>\n",
       "      <td>False</td>\n",
       "      <td>False</td>\n",
       "    </tr>\n",
       "    <tr>\n",
       "      <th>8105</th>\n",
       "      <td>0</td>\n",
       "      <td>0.51</td>\n",
       "      <td>1.37</td>\n",
       "      <td>1.36</td>\n",
       "      <td>India</td>\n",
       "      <td>Better Career Prospects</td>\n",
       "      <td>0</td>\n",
       "      <td>True</td>\n",
       "      <td>False</td>\n",
       "      <td>True</td>\n",
       "      <td>False</td>\n",
       "      <td>False</td>\n",
       "      <td>False</td>\n",
       "      <td>False</td>\n",
       "      <td>True</td>\n",
       "      <td>False</td>\n",
       "      <td>True</td>\n",
       "      <td>False</td>\n",
       "      <td>False</td>\n",
       "      <td>False</td>\n",
       "    </tr>\n",
       "    <tr>\n",
       "      <th>3934</th>\n",
       "      <td>0</td>\n",
       "      <td>-1.02</td>\n",
       "      <td>-0.89</td>\n",
       "      <td>-1.18</td>\n",
       "      <td>NaN</td>\n",
       "      <td>Better Career Prospects</td>\n",
       "      <td>0</td>\n",
       "      <td>False</td>\n",
       "      <td>False</td>\n",
       "      <td>False</td>\n",
       "      <td>True</td>\n",
       "      <td>False</td>\n",
       "      <td>False</td>\n",
       "      <td>False</td>\n",
       "      <td>False</td>\n",
       "      <td>True</td>\n",
       "      <td>True</td>\n",
       "      <td>False</td>\n",
       "      <td>False</td>\n",
       "      <td>True</td>\n",
       "    </tr>\n",
       "  </tbody>\n",
       "</table>\n",
       "</div>"
      ],
      "text/plain": [
       "      do_not_email  total_visits  time_on_website  page_views_per_visit  \\\n",
       "1871             0         -1.02            -0.89                 -1.18   \n",
       "6795             0          0.21             0.01                 -0.50   \n",
       "3516             0          0.51            -0.69                  0.09   \n",
       "8105             0          0.51             1.37                  1.36   \n",
       "3934             0         -1.02            -0.89                 -1.18   \n",
       "\n",
       "     country  course_selection_reason  mastering_interview  \\\n",
       "1871     NaN  Better Career Prospects                    0   \n",
       "6795   India  Better Career Prospects                    1   \n",
       "3516     NaN  Better Career Prospects                    0   \n",
       "8105   India  Better Career Prospects                    0   \n",
       "3934     NaN  Better Career Prospects                    0   \n",
       "\n",
       "      lead_origin_Landing Page Submission  \\\n",
       "1871                                False   \n",
       "6795                                 True   \n",
       "3516                                False   \n",
       "8105                                 True   \n",
       "3934                                False   \n",
       "\n",
       "      lead_origin_Lead Add Form and Others  lead_source_Google  \\\n",
       "1871                                 False               False   \n",
       "6795                                 False               False   \n",
       "3516                                 False               False   \n",
       "8105                                 False                True   \n",
       "3934                                 False               False   \n",
       "\n",
       "      lead_source_Olark Chat  lead_source_Organic Search  \\\n",
       "1871                    True                       False   \n",
       "6795                   False                       False   \n",
       "3516                    True                       False   \n",
       "8105                   False                       False   \n",
       "3934                    True                       False   \n",
       "\n",
       "      lead_source_Other Social Sites  lead_source_Reference  \\\n",
       "1871                           False                  False   \n",
       "6795                           False                  False   \n",
       "3516                           False                  False   \n",
       "8105                           False                  False   \n",
       "3934                           False                  False   \n",
       "\n",
       "      specialization_Industry Specializations  \\\n",
       "1871                                    False   \n",
       "6795                                     True   \n",
       "3516                                    False   \n",
       "8105                                     True   \n",
       "3934                                    False   \n",
       "\n",
       "      specialization_Management Specializations  occupation_Unemployed  \\\n",
       "1871                                       True                   True   \n",
       "6795                                      False                   True   \n",
       "3516                                       True                   True   \n",
       "8105                                      False                   True   \n",
       "3934                                       True                   True   \n",
       "\n",
       "      occupation_Working Professional  city_Non-Maharashtra Cities  \\\n",
       "1871                            False                        False   \n",
       "6795                            False                         True   \n",
       "3516                            False                        False   \n",
       "8105                            False                        False   \n",
       "3934                            False                        False   \n",
       "\n",
       "      city_Non-Mumbai Maharashtra Cities  \n",
       "1871                               False  \n",
       "6795                               False  \n",
       "3516                               False  \n",
       "8105                               False  \n",
       "3934                                True  "
      ]
     },
     "execution_count": 91,
     "metadata": {},
     "output_type": "execute_result"
    }
   ],
   "source": [
    "scaler = StandardScaler()\n",
    "\n",
    "X_train[['total_visits','time_on_website','page_views_per_visit']] = scaler.fit_transform(\n",
    "    X_train[['total_visits','time_on_website','page_views_per_visit']])\n",
    "\n",
    "X_train.head()"
   ]
  },
  {
   "cell_type": "code",
   "execution_count": 89,
   "id": "bb696413-75f3-4931-af70-f6eaa2f6b4f1",
   "metadata": {
    "tags": []
   },
   "outputs": [
    {
     "data": {
      "text/plain": [
       "38.53896103896104"
      ]
     },
     "execution_count": 89,
     "metadata": {},
     "output_type": "execute_result"
    }
   ],
   "source": [
    "# checking the conversion rate\n",
    "conversion = (sum(df['converted'])/len(df['converted'].index))*100\n",
    "conversion"
   ]
  },
  {
   "cell_type": "code",
   "execution_count": null,
   "id": "a0fcc6a4-75d3-43ab-91a6-4f101911e79f",
   "metadata": {},
   "outputs": [],
   "source": [
    "### Looking at correlations"
   ]
  },
  {
   "cell_type": "code",
   "execution_count": null,
   "id": "af24a468-46c5-4241-8127-9876b4c13578",
   "metadata": {},
   "outputs": [],
   "source": [
    "# Let's see the correlation matrix \n",
    "plt.figure(figsize = (14,10))       \n",
    "sns.heatmap(df.corr(),annot = True, cmap=\"YlGnBu\")\n",
    "plt.show()"
   ]
  },
  {
   "cell_type": "code",
   "execution_count": 95,
   "id": "c05fcf18-5604-4a29-81e6-53d90f48ec91",
   "metadata": {
    "tags": []
   },
   "outputs": [],
   "source": [
    "X_test.drop(['lead_origin_Lead Add Form and Others', 'specialization_Industry Specializations', \n",
    "                     'occupation_Working Professional'], axis = 1, inplace = True)\n",
    "\n",
    "X_train.drop(['lead_origin_Lead Add Form and Others', 'specialization_Industry Specializations', \n",
    "                     'occupation_Working Professional'], axis = 1, inplace = True)"
   ]
  },
  {
   "cell_type": "code",
   "execution_count": null,
   "id": "0b8d18f9-53ea-4d8d-9f1e-8cf2a6435cbc",
   "metadata": {},
   "outputs": [],
   "source": [
    "## lets check the correlation matrix again\n",
    "plt.figure(figsize = (14,10))       \n",
    "sns.heatmap(X_train.corr(),annot = True, cmap=\"YlGnBu\")\n",
    "plt.show()"
   ]
  },
  {
   "cell_type": "code",
   "execution_count": null,
   "id": "65475d2e-4406-4c6c-965e-085ac3ae7efa",
   "metadata": {},
   "outputs": [],
   "source": [
    "## Model Building"
   ]
  },
  {
   "cell_type": "code",
   "execution_count": null,
   "id": "a3e87e42-94ed-45d2-ac89-f0eeb38ace7e",
   "metadata": {},
   "outputs": [],
   "source": [
    "# Logistic regression model\n",
    "logm1 = sm.GLM(y_train,(sm.add_constant(X_train)), family = sm.families.Binomial())\n",
    "logm1.fit().summary()"
   ]
  },
  {
   "cell_type": "code",
   "execution_count": null,
   "id": "e70894b8-1ee5-4866-b3bb-2f790aaca872",
   "metadata": {},
   "outputs": [],
   "source": [
    "### Feature selection using RFE"
   ]
  },
  {
   "cell_type": "code",
   "execution_count": null,
   "id": "792dbb07-e633-4e12-8120-2ac3394438e1",
   "metadata": {},
   "outputs": [],
   "source": [
    "# initiate logistic regression\n",
    "logreg = LogisticRegression()\n",
    "\n",
    "# initiate rfe\n",
    "rfe = RFE(logreg, 13)             # running RFE with 13 variables as output\n",
    "rfe = rfe.fit(X_train, y_train)"
   ]
  },
  {
   "cell_type": "code",
   "execution_count": null,
   "id": "dfe3367e-81cb-4194-903b-4fc83764517c",
   "metadata": {},
   "outputs": [],
   "source": [
    "rfe.support_"
   ]
  },
  {
   "cell_type": "code",
   "execution_count": null,
   "id": "a46c6b28-eb4c-46a7-a014-58173c2d0084",
   "metadata": {},
   "outputs": [],
   "source": [
    "list(zip(X_train.columns, rfe.support_, rfe.ranking_))"
   ]
  },
  {
   "cell_type": "code",
   "execution_count": null,
   "id": "43a7a4a3-798c-4331-a2c6-e2a0ff25b05b",
   "metadata": {},
   "outputs": [],
   "source": [
    "### Model 2: Assessing the model with statsmodel"
   ]
  },
  {
   "cell_type": "code",
   "execution_count": null,
   "id": "e534adef-7fce-41f7-9581-ea9fe3287356",
   "metadata": {},
   "outputs": [],
   "source": [
    "X_train_sm = sm.add_constant(X_train[col])\n",
    "logm2 = sm.GLM(y_train,X_train_sm, family = sm.families.Binomial())\n",
    "res = logm2.fit()\n",
    "res.summary()"
   ]
  }
 ],
 "metadata": {
  "kernelspec": {
   "display_name": "Python 3 (ipykernel)",
   "language": "python",
   "name": "python3"
  },
  "language_info": {
   "codemirror_mode": {
    "name": "ipython",
    "version": 3
   },
   "file_extension": ".py",
   "mimetype": "text/x-python",
   "name": "python",
   "nbconvert_exporter": "python",
   "pygments_lexer": "ipython3",
   "version": "3.11.5"
  }
 },
 "nbformat": 4,
 "nbformat_minor": 5
}
